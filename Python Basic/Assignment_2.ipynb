{
 "cells": [
  {
   "cell_type": "markdown",
   "id": "ac791ff5",
   "metadata": {},
   "source": [
    "# Python Basic\n",
    "    \n",
    "    "
   ]
  },
  {
   "cell_type": "markdown",
   "id": "aaa674a7",
   "metadata": {},
   "source": [
    "### Assignment 2 \n"
   ]
  },
  {
   "cell_type": "markdown",
   "id": "4634d7e6",
   "metadata": {},
   "source": [
    "1.What are the two values of the Boolean data type? How do you write them?"
   ]
  },
  {
   "cell_type": "markdown",
   "id": "b8d6c18e",
   "metadata": {},
   "source": [
    "Solution: The values of baoolean data type are '1' and '0'. We represent the values as True for '1' and False for '0'."
   ]
  },
  {
   "cell_type": "markdown",
   "id": "a6fb2b53",
   "metadata": {},
   "source": [
    "2. What are the three different types of Boolean operators?"
   ]
  },
  {
   "cell_type": "markdown",
   "id": "b70f9ce4",
   "metadata": {},
   "source": [
    "Solution: Boolean operator are 'and','or', 'not'."
   ]
  },
  {
   "cell_type": "markdown",
   "id": "775380a9",
   "metadata": {},
   "source": [
    "3. Make a list of each Boolean operator&#39;s truth tables (i.e. every possible combination of Boolean\n",
    "values for the operator and what it evaluate )."
   ]
  },
  {
   "cell_type": "markdown",
   "id": "46c33c7a",
   "metadata": {},
   "source": [
    " Truth table for and:\n",
    " \n",
    "| Value 1 | Operator| Value 2 | Result \n",
    "| ------- | --------|-------- |--------\n",
    "| True    | and     | True    | True   \n",
    "| True    | and     | False   | False\n",
    "| False   | and     | True    | False\n",
    "| False   | and     | False   | False\n",
    "\n",
    "Truth table for or: \n",
    "\n",
    "| Value 1 | Operator| Value 2 | Result \n",
    "| ------- | --------|-------- |--------\n",
    "| True    | or     | True    | True   \n",
    "| True    | or     | False   | True\n",
    "| False   | or     | True    | True\n",
    "| False   | or     | False   | False\n",
    "\n",
    "Truth table for not:\n",
    "\n",
    " Operator| Value 1 | Result \n",
    " --------|-------- |--------\n",
    " not     | True    | False   \n",
    " not     | False   | True\n"
   ]
  },
  {
   "cell_type": "markdown",
   "id": "9f33f512",
   "metadata": {},
   "source": [
    "4. What are the values of the following expressions?"
   ]
  },
  {
   "cell_type": "markdown",
   "id": "cd4323b1",
   "metadata": {},
   "source": [
    "(5 > 4) and (3 == 5)  \n",
    "not (5 > 4)  \n",
    "(5 > 4) or (3 == 5)  \n",
    "not ((5 > 4) or (3 == 5))  \n",
    "(True and True) and (True == False)  \n",
    "(not False) or (not True)  "
   ]
  },
  {
   "cell_type": "code",
   "execution_count": 5,
   "id": "dcf1ac88",
   "metadata": {},
   "outputs": [
    {
     "data": {
      "text/plain": [
       "False"
      ]
     },
     "execution_count": 5,
     "metadata": {},
     "output_type": "execute_result"
    }
   ],
   "source": [
    "(5 > 4) and (3 == 5)"
   ]
  },
  {
   "cell_type": "code",
   "execution_count": 8,
   "id": "6fad5efe",
   "metadata": {},
   "outputs": [
    {
     "data": {
      "text/plain": [
       "False"
      ]
     },
     "execution_count": 8,
     "metadata": {},
     "output_type": "execute_result"
    }
   ],
   "source": [
    "not (5 > 4)"
   ]
  },
  {
   "cell_type": "code",
   "execution_count": 9,
   "id": "5ca2cb24",
   "metadata": {},
   "outputs": [
    {
     "data": {
      "text/plain": [
       "True"
      ]
     },
     "execution_count": 9,
     "metadata": {},
     "output_type": "execute_result"
    }
   ],
   "source": [
    "(5 > 4) or (3 == 5)"
   ]
  },
  {
   "cell_type": "code",
   "execution_count": 10,
   "id": "dc5ce7c3",
   "metadata": {},
   "outputs": [
    {
     "data": {
      "text/plain": [
       "False"
      ]
     },
     "execution_count": 10,
     "metadata": {},
     "output_type": "execute_result"
    }
   ],
   "source": [
    "not ((5 > 4) or (3 == 5))"
   ]
  },
  {
   "cell_type": "code",
   "execution_count": 11,
   "id": "6b0d59b4",
   "metadata": {},
   "outputs": [
    {
     "data": {
      "text/plain": [
       "False"
      ]
     },
     "execution_count": 11,
     "metadata": {},
     "output_type": "execute_result"
    }
   ],
   "source": [
    "(True and True) and (True == False)"
   ]
  },
  {
   "cell_type": "code",
   "execution_count": 12,
   "id": "ba4c148e",
   "metadata": {},
   "outputs": [
    {
     "data": {
      "text/plain": [
       "True"
      ]
     },
     "execution_count": 12,
     "metadata": {},
     "output_type": "execute_result"
    }
   ],
   "source": [
    "(not False) or (not True)"
   ]
  },
  {
   "cell_type": "markdown",
   "id": "55175d85",
   "metadata": {},
   "source": [
    "5. What are the six comparison operators?"
   ]
  },
  {
   "cell_type": "markdown",
   "id": "31671a87",
   "metadata": {},
   "source": [
    "Solution:  \n",
    "     == , != , < , > , <= , >="
   ]
  },
  {
   "cell_type": "markdown",
   "id": "b0f40ffb",
   "metadata": {},
   "source": [
    "6. How do you tell the difference between the equal to and assignment operators? Describe a condition and when you would use one."
   ]
  },
  {
   "cell_type": "markdown",
   "id": "5096111d",
   "metadata": {},
   "source": [
    "solution:  \n",
    "    == is the equal to operator that compares two values and evaluates to a Boolean, while = is that assignment operator that stores a value in a variable."
   ]
  },
  {
   "cell_type": "code",
   "execution_count": 14,
   "id": "055d4c06",
   "metadata": {},
   "outputs": [
    {
     "name": "stdout",
     "output_type": "stream",
     "text": [
      "True\n"
     ]
    }
   ],
   "source": [
    "a = 5 # here we assigning value 5 in a variable a\n",
    "if a == 5: # Here we are comparing the value of a variable\n",
    "    print(a == 5)"
   ]
  },
  {
   "cell_type": "markdown",
   "id": "cc9f0a8c",
   "metadata": {},
   "source": [
    "7. Identify the three blocks in this code:"
   ]
  },
  {
   "cell_type": "markdown",
   "id": "fa24ae97",
   "metadata": {},
   "source": [
    "spam = 0  \n",
    "if spam == 10:  \n",
    "print('eggs')  \n",
    "if spam >5:  \n",
    "print('bacon')  \n",
    "else :  \n",
    "print('ham')  \n",
    "print('spam')  \n",
    "print('spam')  "
   ]
  },
  {
   "cell_type": "markdown",
   "id": "fb0aa854",
   "metadata": {},
   "source": [
    "Solution: \n",
    "     In Python, code block refers to a collection of code that is in the same block or indent. This is most commonly found in classes, functions, and loops."
   ]
  },
  {
   "cell_type": "code",
   "execution_count": 16,
   "id": "e8648572",
   "metadata": {},
   "outputs": [
    {
     "name": "stdout",
     "output_type": "stream",
     "text": [
      "ham\n",
      "spam\n",
      "spam\n"
     ]
    }
   ],
   "source": [
    "spam = 0\n",
    "if spam == 10:\n",
    "    print('eggs')\n",
    "if spam >5:\n",
    "    print('bacon')\n",
    "else :\n",
    "    print('ham')\n",
    "    print('spam')\n",
    "    print('spam')"
   ]
  },
  {
   "cell_type": "markdown",
   "id": "ee482bd5",
   "metadata": {},
   "source": [
    "8. Write code that prints Hello if 1 is stored in spam, prints Howdy if 2 is stored in spam, and prints Greetings! if anything else is stored in spam."
   ]
  },
  {
   "cell_type": "code",
   "execution_count": 23,
   "id": "be6b39a4",
   "metadata": {},
   "outputs": [
    {
     "name": "stdout",
     "output_type": "stream",
     "text": [
      "Hello\n"
     ]
    }
   ],
   "source": [
    "def spamCode(spam):\n",
    "    if spam == 1:\n",
    "        print('Hello')\n",
    "    elif spam == 2:\n",
    "        print('Howdy')\n",
    "    else:\n",
    "        print('Greetings')\n",
    "spamCode(1)"
   ]
  },
  {
   "cell_type": "markdown",
   "id": "a943fc59",
   "metadata": {},
   "source": [
    "9. If your programme is stuck in an endless loop, what keys you’ll press?"
   ]
  },
  {
   "cell_type": "markdown",
   "id": "acfb8e65",
   "metadata": {},
   "source": [
    "Solution:  \n",
    " Ctrl + C, is used to terminate the execution of the code."
   ]
  },
  {
   "cell_type": "markdown",
   "id": "2ebb4ce9",
   "metadata": {},
   "source": [
    "10. How can you tell the difference between break and continue?"
   ]
  },
  {
   "cell_type": "markdown",
   "id": "2a39ee20",
   "metadata": {},
   "source": [
    "Solution:  \n",
    "    Break statement will discontiue the execution of the control structure block where as continue statement will skip the current iteration and move to the next iteration."
   ]
  },
  {
   "cell_type": "markdown",
   "id": "8e43a763",
   "metadata": {},
   "source": [
    "11. In a for loop, what is the difference between range(10), range(0, 10), and range(0, 10, 1)?"
   ]
  },
  {
   "cell_type": "markdown",
   "id": "2e5155c7",
   "metadata": {},
   "source": [
    "Solution:  \n",
    "    In a for loop the range(10) depicts the range of numbers from 0 to 9 but excluding 10, range(0,10) specify the starting and ending point  and in range(0,10,1) we specify the range and tell now many values to skip."
   ]
  },
  {
   "cell_type": "markdown",
   "id": "a99f4831",
   "metadata": {},
   "source": [
    "12. Write a short program that prints the numbers 1 to 10 using a for loop. Then write an equivalent\n",
    "program that prints the numbers 1 to 10 using a while loop."
   ]
  },
  {
   "cell_type": "code",
   "execution_count": 27,
   "id": "f835fc08",
   "metadata": {},
   "outputs": [
    {
     "name": "stdout",
     "output_type": "stream",
     "text": [
      "1 2 3 4 5 6 7 8 9 10 \n",
      "\n"
     ]
    }
   ],
   "source": [
    "# printing numbers 1 to 10 using for loop\n",
    "for i in range(1,11):\n",
    "    print(i, end=\" \")\n",
    "print('\\n')\n",
    "\n",
    "i=1\n"
   ]
  },
  {
   "cell_type": "code",
   "execution_count": 28,
   "id": "0407fad8",
   "metadata": {},
   "outputs": [
    {
     "name": "stdout",
     "output_type": "stream",
     "text": [
      "1 2 3 4 5 6 7 8 9 10 "
     ]
    }
   ],
   "source": [
    "#print number 1 to 10 using while loop\n",
    "i = 1 \n",
    "while i<=10:\n",
    "    print(i, end=\" \")\n",
    "    i+=1\n"
   ]
  },
  {
   "cell_type": "markdown",
   "id": "541b02dd",
   "metadata": {},
   "source": [
    "13. If you had a function named bacon() inside a module named spam, how would you call it after importing spam?"
   ]
  },
  {
   "cell_type": "markdown",
   "id": "e2a52402",
   "metadata": {},
   "source": [
    " Solution:  \n",
    "  This function can be called with spam.bacon()\n",
    "        "
   ]
  },
  {
   "cell_type": "code",
   "execution_count": null,
   "id": "bfdc1b08",
   "metadata": {},
   "outputs": [],
   "source": []
  }
 ],
 "metadata": {
  "kernelspec": {
   "display_name": "Python 3 (ipykernel)",
   "language": "python",
   "name": "python3"
  },
  "language_info": {
   "codemirror_mode": {
    "name": "ipython",
    "version": 3
   },
   "file_extension": ".py",
   "mimetype": "text/x-python",
   "name": "python",
   "nbconvert_exporter": "python",
   "pygments_lexer": "ipython3",
   "version": "3.9.12"
  }
 },
 "nbformat": 4,
 "nbformat_minor": 5
}
