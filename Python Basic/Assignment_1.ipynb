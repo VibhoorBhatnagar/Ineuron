{
 "cells": [
  {
   "cell_type": "markdown",
   "id": "da725138",
   "metadata": {},
   "source": [
    "# Python Basic"
   ]
  },
  {
   "cell_type": "markdown",
   "id": "e2721ed5",
   "metadata": {},
   "source": [
    "### Assignment 1 "
   ]
  },
  {
   "cell_type": "markdown",
   "id": "d580f42b",
   "metadata": {},
   "source": [
    "###### 1. In the below elements which of them are values or an expression? eg:- values can be\n",
    "integer or string and expressions will be mathematical operators."
   ]
  },
  {
   "cell_type": "markdown",
   "id": "44aab510",
   "metadata": {},
   "source": [
    "*,'hello', -87.8,-,/,+,6"
   ]
  },
  {
   "cell_type": "markdown",
   "id": "3e1bcb24",
   "metadata": {},
   "source": [
    "Solution: In the above elements there are 4 Operators and 3 Expressions.\n",
    "    Operators: *, -, /, +\n",
    "    Expression: 'hello', '-87.8', 6"
   ]
  },
  {
   "cell_type": "markdown",
   "id": "823a38a4",
   "metadata": {},
   "source": [
    "###### 2. What is the difference between string and variable?"
   ]
  },
  {
   "cell_type": "markdown",
   "id": "1ffe57bc",
   "metadata": {},
   "source": [
    "Solution: String is a datatype which collectes a group of characters or a single character enclosed in sigle quotes '' or double quotes \"\". \n",
    "A Variable is used to store the information in the form of values. "
   ]
  },
  {
   "cell_type": "markdown",
   "id": "acc801bc",
   "metadata": {},
   "source": [
    "###### 3. Describe three different data types."
   ]
  },
  {
   "cell_type": "markdown",
   "id": "6e61d382",
   "metadata": {},
   "source": [
    "Solution: The three majorly used datatype in python are int, float, and string\n",
    "- int() is used for integers \n",
    "- float() is used for floating-point \n",
    "- str() for string "
   ]
  },
  {
   "cell_type": "markdown",
   "id": "9d33eb87",
   "metadata": {},
   "source": [
    "###### 4. What is an expression made up of? What do all expressions do?"
   ]
  },
  {
   "cell_type": "markdown",
   "id": "aaa98d03",
   "metadata": {},
   "source": [
    " Solution: Expression is the combination of operators and variables(or Constants). It consists of 1 or a lot of operands and zero or more operators to provide a value."
   ]
  },
  {
   "cell_type": "markdown",
   "id": "19fe8e6b",
   "metadata": {},
   "source": [
    "###### 5. This assignment statements, like spam = 10. What is the difference between an expression and a statement?"
   ]
  },
  {
   "cell_type": "markdown",
   "id": "928f8085",
   "metadata": {},
   "source": [
    "Solution: An Expression is a combination of variables, operators and functions is compiled to create a new value. On the other hand statement is a standalone unit of code when executed it does not return any values."
   ]
  },
  {
   "cell_type": "markdown",
   "id": "4bc02a27",
   "metadata": {},
   "source": [
    "###### 6. After running the following code, what does the variable bacon contain?"
   ]
  },
  {
   "cell_type": "markdown",
   "id": "acd06a6b",
   "metadata": {},
   "source": [
    "bacon = 22  \n",
    "bacon + 1"
   ]
  },
  {
   "cell_type": "code",
   "execution_count": 9,
   "id": "586ae0a1",
   "metadata": {},
   "outputs": [
    {
     "name": "stdout",
     "output_type": "stream",
     "text": [
      "22\n"
     ]
    }
   ],
   "source": [
    "bacon = 22 # bacon a varible is assigned with a value 22\n",
    "bacon + 1 # in this expression the values is not resigned to another variabel or itself\n",
    "print(bacon) # So the value of bacon will remain the same."
   ]
  },
  {
   "cell_type": "markdown",
   "id": "e36e57b1",
   "metadata": {},
   "source": [
    "###### 7.What should the values of the following two terms be?"
   ]
  },
  {
   "cell_type": "markdown",
   "id": "22e79e17",
   "metadata": {},
   "source": [
    "'spam'+'spamspam'  \n",
    "'spam'*3"
   ]
  },
  {
   "cell_type": "raw",
   "id": "49b66df6",
   "metadata": {},
   "source": [
    "Solution: Here both the expression will print the same string 'spamspamspam', as the first expression is performing concatenation and the second one is string multiplication. "
   ]
  },
  {
   "cell_type": "code",
   "execution_count": 10,
   "id": "8114fc50",
   "metadata": {},
   "outputs": [
    {
     "name": "stdout",
     "output_type": "stream",
     "text": [
      "spamspamspam\n",
      "spamspamspam\n"
     ]
    }
   ],
   "source": [
    "print ('spam'+'spamspam') # String concatination \n",
    "print('spam'*3) # String multiplication"
   ]
  },
  {
   "cell_type": "markdown",
   "id": "e04f7f94",
   "metadata": {},
   "source": [
    "###### 8. Why is eggs a valid variable name while 100 is invalid?"
   ]
  },
  {
   "cell_type": "markdown",
   "id": "2fe1c59f",
   "metadata": {},
   "source": [
    "Solution: In python variable name cannot be a number. Variable name must start with alphabet, alpha-numeric or underscore and followed by number or alphabet. "
   ]
  },
  {
   "cell_type": "markdown",
   "id": "4c661ee6",
   "metadata": {},
   "source": [
    "###### 9.What three functions can be used to get the integer,floating-point number,or string version of a value?"
   ]
  },
  {
   "cell_type": "markdown",
   "id": "2a6428df",
   "metadata": {},
   "source": [
    "Solution: The function that can be used are,\n",
    "- int() for integer \n",
    "- float() for floating-point\n",
    "- str() for string "
   ]
  },
  {
   "cell_type": "markdown",
   "id": "2a22010c",
   "metadata": {},
   "source": [
    "###### 10. Why does this expression cause an error? How can you fix it?"
   ]
  },
  {
   "cell_type": "markdown",
   "id": "1964221c",
   "metadata": {},
   "source": [
    "'I have eaten ' + 99 + ' burritos.'"
   ]
  },
  {
   "cell_type": "code",
   "execution_count": 11,
   "id": "7bc18360",
   "metadata": {},
   "outputs": [
    {
     "ename": "TypeError",
     "evalue": "can only concatenate str (not \"int\") to str",
     "output_type": "error",
     "traceback": [
      "\u001b[1;31m---------------------------------------------------------------------------\u001b[0m",
      "\u001b[1;31mTypeError\u001b[0m                                 Traceback (most recent call last)",
      "\u001b[1;32m~\\AppData\\Local\\Temp/ipykernel_13504/1774935878.py\u001b[0m in \u001b[0;36m<module>\u001b[1;34m\u001b[0m\n\u001b[1;32m----> 1\u001b[1;33m \u001b[1;34m'I have eaten '\u001b[0m \u001b[1;33m+\u001b[0m \u001b[1;36m99\u001b[0m \u001b[1;33m+\u001b[0m \u001b[1;34m' burritos.'\u001b[0m\u001b[1;33m\u001b[0m\u001b[1;33m\u001b[0m\u001b[0m\n\u001b[0m",
      "\u001b[1;31mTypeError\u001b[0m: can only concatenate str (not \"int\") to str"
     ]
    }
   ],
   "source": [
    "'I have eaten ' + 99 + ' burritos.'"
   ]
  },
  {
   "cell_type": "markdown",
   "id": "a709daa8",
   "metadata": {},
   "source": [
    "Solution: As we can see, the above expression throws an error saying concatenation between string and integer is not possible. To fix this error, we must typecast the int value into a string.\n"
   ]
  },
  {
   "cell_type": "code",
   "execution_count": 12,
   "id": "089bf90e",
   "metadata": {},
   "outputs": [
    {
     "data": {
      "text/plain": [
       "'I have eaten 99 burritos.'"
      ]
     },
     "execution_count": 12,
     "metadata": {},
     "output_type": "execute_result"
    }
   ],
   "source": [
    "'I have eaten ' + str(99) + ' burritos.'"
   ]
  },
  {
   "cell_type": "code",
   "execution_count": null,
   "id": "5ba39610",
   "metadata": {},
   "outputs": [],
   "source": []
  }
 ],
 "metadata": {
  "kernelspec": {
   "display_name": "Python 3 (ipykernel)",
   "language": "python",
   "name": "python3"
  },
  "language_info": {
   "codemirror_mode": {
    "name": "ipython",
    "version": 3
   },
   "file_extension": ".py",
   "mimetype": "text/x-python",
   "name": "python",
   "nbconvert_exporter": "python",
   "pygments_lexer": "ipython3",
   "version": "3.9.7"
  }
 },
 "nbformat": 4,
 "nbformat_minor": 5
}
