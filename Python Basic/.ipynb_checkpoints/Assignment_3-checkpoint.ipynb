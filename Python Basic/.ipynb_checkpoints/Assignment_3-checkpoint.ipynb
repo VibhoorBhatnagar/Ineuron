{
 "cells": [
  {
   "cell_type": "markdown",
   "id": "7509aa2e",
   "metadata": {},
   "source": [
    "Q1. Why are functions advantageous to have in your programs?"
   ]
  },
  {
   "cell_type": "markdown",
   "id": "9be46e41",
   "metadata": {},
   "source": [
    "Solution: \n",
    "    The advantage of haveing function in programming, it will reduce the repition of the code which make coding much easy and faster. When compaired to rewriting the same exact block of code agaon and again."
   ]
  },
  {
   "cell_type": "markdown",
   "id": "1c8deef7",
   "metadata": {},
   "source": [
    "Q2. When does the code in a function run:when it's specified or when it's called?"
   ]
  },
  {
   "cell_type": "markdown",
   "id": "8d90aab2",
   "metadata": {},
   "source": [
    "Solution:\n",
    "    When the function is called the block of code within the function will be executed."
   ]
  },
  {
   "cell_type": "markdown",
   "id": "1c30d25e",
   "metadata": {},
   "source": [
    "Q3. What statement creates a function?"
   ]
  },
  {
   "cell_type": "markdown",
   "id": "ec7d2b35",
   "metadata": {},
   "source": [
    "Solution:\n",
    "     Function is defined using 'def' keyword followed by the function name.  \n",
    "     \n",
    "     Eg: def test():\n",
    "             print('This is a test function')"
   ]
  },
  {
   "cell_type": "markdown",
   "id": "10dfcb0a",
   "metadata": {},
   "source": [
    "Q4. What is the difference between a function and a function call?"
   ]
  },
  {
   "cell_type": "code",
   "execution_count": 2,
   "id": "582102d8",
   "metadata": {},
   "outputs": [],
   "source": [
    " # Here we created a function with a block of code within it \n",
    "    def test():\n",
    "        print('This is a test function')\n",
    "        "
   ]
  },
  {
   "cell_type": "code",
   "execution_count": 4,
   "id": "5ebd1b6f",
   "metadata": {},
   "outputs": [
    {
     "name": "stdout",
     "output_type": "stream",
     "text": [
      "This is a test function\n"
     ]
    }
   ],
   "source": [
    "# This is calling a fucnction by which the execution of the block takes place \n",
    "test()"
   ]
  },
  {
   "cell_type": "markdown",
   "id": "486a118e",
   "metadata": {},
   "source": [
    "Q5. How many global scopes are there in a Python program? How many local scopes?"
   ]
  },
  {
   "cell_type": "markdown",
   "id": "d6db2592",
   "metadata": {},
   "source": [
    "Solution:\n",
    "    There is only one Globel scope in python programming and it exists untill the program is terminated, And local scope is created once a function is called."
   ]
  },
  {
   "cell_type": "markdown",
   "id": "034a94a7",
   "metadata": {},
   "source": [
    "Q6. What happens to variables in a local scope when the function call returns?"
   ]
  },
  {
   "cell_type": "markdown",
   "id": "99767053",
   "metadata": {},
   "source": [
    "Solution:\n",
    "    The local scope will get distroyed when function call returns"
   ]
  },
  {
   "cell_type": "markdown",
   "id": "aec1331f",
   "metadata": {},
   "source": [
    "Q7. What is the concept of a return value? Is it possible to have a return value in an expression?"
   ]
  },
  {
   "cell_type": "markdown",
   "id": "e24d33e7",
   "metadata": {},
   "source": [
    "Solution:\n",
    "    The return value is the value that is retrived once the funcation call is executed. Yes, the return value can be used as any variable in an expression."
   ]
  },
  {
   "cell_type": "markdown",
   "id": "dfc1391c",
   "metadata": {},
   "source": [
    "Q8. If a function does not have a return statement, what is the return value of a call to that function?"
   ]
  },
  {
   "cell_type": "markdown",
   "id": "e6e9a0a8",
   "metadata": {},
   "source": [
    "Solution:\n",
    "    If there is no return statement in a function it will not return anything."
   ]
  },
  {
   "cell_type": "markdown",
   "id": "344d9931",
   "metadata": {},
   "source": [
    "Q9. How do you make a function variable refer to the global variable?"
   ]
  },
  {
   "cell_type": "markdown",
   "id": "ec3e94e0",
   "metadata": {},
   "source": [
    "Solution:\n",
    "    To make function variable as a global variable you can use the global keyword to declare which variables are global."
   ]
  },
  {
   "cell_type": "markdown",
   "id": "b9f63a05",
   "metadata": {},
   "source": [
    "Q10. What is the data type of None?"
   ]
  },
  {
   "cell_type": "markdown",
   "id": "5df5c393",
   "metadata": {},
   "source": [
    "Solution:\n",
    "    The data type of None is NoneType.\n"
   ]
  },
  {
   "cell_type": "markdown",
   "id": "035ee2d5",
   "metadata": {},
   "source": [
    "Q11.  What does the sentence import areallyourpetsnamederic do?"
   ]
  },
  {
   "cell_type": "markdown",
   "id": "dcb07bd5",
   "metadata": {},
   "source": [
    "Solution:\n",
    "     That import statement imports a module named areallyourpetsnamederic."
   ]
  },
  {
   "cell_type": "markdown",
   "id": "9a570ea3",
   "metadata": {},
   "source": [
    "Q12. If you had a bacon() feature in a spam module, what would you call it after importing spam?"
   ]
  },
  {
   "cell_type": "markdown",
   "id": "7207f16c",
   "metadata": {},
   "source": [
    "Solution:\n",
    "    The function can be called with spam.bacon()"
   ]
  },
  {
   "cell_type": "markdown",
   "id": "497bca34",
   "metadata": {},
   "source": [
    "Q13.  What can you do to save a programme from crashing if it encounters an error?"
   ]
  },
  {
   "cell_type": "markdown",
   "id": "7031193c",
   "metadata": {},
   "source": [
    "Solution: \n",
    "    We can prevent crashing of the program by placing the block of code which could cause an error in a try block to use the except to handle the error."
   ]
  },
  {
   "cell_type": "markdown",
   "id": "0ec49cef",
   "metadata": {},
   "source": [
    "Q14. What is the purpose of the try clause? What is the purpose of the except clause?\n"
   ]
  },
  {
   "cell_type": "markdown",
   "id": "f741682d",
   "metadata": {},
   "source": [
    "Solution:\n",
    "    The code that could potentially cause an error goes in the try clause. The code that executes if an error happens goes in the except clause."
   ]
  },
  {
   "cell_type": "code",
   "execution_count": null,
   "id": "8943a9c7",
   "metadata": {},
   "outputs": [],
   "source": []
  }
 ],
 "metadata": {
  "kernelspec": {
   "display_name": "Python 3 (ipykernel)",
   "language": "python",
   "name": "python3"
  },
  "language_info": {
   "codemirror_mode": {
    "name": "ipython",
    "version": 3
   },
   "file_extension": ".py",
   "mimetype": "text/x-python",
   "name": "python",
   "nbconvert_exporter": "python",
   "pygments_lexer": "ipython3",
   "version": "3.9.12"
  }
 },
 "nbformat": 4,
 "nbformat_minor": 5
}
