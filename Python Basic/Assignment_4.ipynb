{
 "cells": [
  {
   "cell_type": "markdown",
   "id": "d12038d5",
   "metadata": {},
   "source": [
    "Q1. What exactly is []?"
   ]
  },
  {
   "cell_type": "markdown",
   "id": "499b4d51",
   "metadata": {},
   "source": [
    "Solution:  \n",
    "This represent a empty list which is represented by [], Which is similar to '' which represents an empty string."
   ]
  },
  {
   "cell_type": "markdown",
   "id": "27126145",
   "metadata": {},
   "source": [
    "Q2. In a list of values stored in a variable called spam, how would you assign the value 'hello' as the\n",
    "third value? (Assume [2, 4, 6, 8, 10] are in spam.)"
   ]
  },
  {
   "cell_type": "code",
   "execution_count": 2,
   "id": "48d242de",
   "metadata": {},
   "outputs": [
    {
     "name": "stdout",
     "output_type": "stream",
     "text": [
      "[2, 4, 6, 8, 10]\n",
      "[2, 4, 'hello', 8, 10]\n"
     ]
    }
   ],
   "source": [
    "spam = [2,4,6,8,10]\n",
    "print(spam)\n",
    "spam[2] = 'hello' #this will insert the element at the third value \n",
    "print(spam)"
   ]
  },
  {
   "cell_type": "markdown",
   "id": "7305bcaa",
   "metadata": {},
   "source": [
    "Q3. What is the value of spam[int(int(&#39;3&#39; * 2) / 11)]?"
   ]
  },
  {
   "cell_type": "code",
   "execution_count": 3,
   "id": "81248031",
   "metadata": {},
   "outputs": [
    {
     "data": {
      "text/plain": [
       "8"
      ]
     },
     "execution_count": 3,
     "metadata": {},
     "output_type": "execute_result"
    }
   ],
   "source": [
    "spam = [2,4,6,8,10]\n",
    "spam[int(int('3' * 2) / 11)]\n"
   ]
  },
  {
   "cell_type": "markdown",
   "id": "0e7d0048",
   "metadata": {},
   "source": [
    "Q4. What is the value of spam[-1]?"
   ]
  },
  {
   "cell_type": "code",
   "execution_count": 4,
   "id": "2e6a15b9",
   "metadata": {},
   "outputs": [
    {
     "data": {
      "text/plain": [
       "10"
      ]
     },
     "execution_count": 4,
     "metadata": {},
     "output_type": "execute_result"
    }
   ],
   "source": [
    "spam[-1] # this will return the value from the opposite direction as the index value starts from -1 and goes on. "
   ]
  },
  {
   "cell_type": "markdown",
   "id": "d2b8ef4e",
   "metadata": {},
   "source": [
    "Q5. What is the value of spam[:2]?"
   ]
  },
  {
   "cell_type": "code",
   "execution_count": 5,
   "id": "a0b5804f",
   "metadata": {},
   "outputs": [
    {
     "data": {
      "text/plain": [
       "[2, 4]"
      ]
     },
     "execution_count": 5,
     "metadata": {},
     "output_type": "execute_result"
    }
   ],
   "source": [
    "spam[:2] # this will return the value from the list spam, where the index value 0 to 2 but excluding 2."
   ]
  },
  {
   "cell_type": "markdown",
   "id": "ae5fb687",
   "metadata": {},
   "source": [
    "Let&#39;s pretend bacon has the list [3.14, 'cat', 11, 'cat', True] for the next three questions."
   ]
  },
  {
   "cell_type": "markdown",
   "id": "fad131d6",
   "metadata": {},
   "source": [
    "Q6. What is the value of bacon.index('cat')?"
   ]
  },
  {
   "cell_type": "code",
   "execution_count": 11,
   "id": "8363eb3c",
   "metadata": {},
   "outputs": [
    {
     "data": {
      "text/plain": [
       "1"
      ]
     },
     "execution_count": 11,
     "metadata": {},
     "output_type": "execute_result"
    }
   ],
   "source": [
    "bacon = [3.14,'cat',11,'cat',True]\n",
    "bacon.index('cat') # it will return the index value at which first occuerence of 'cat'"
   ]
  },
  {
   "cell_type": "markdown",
   "id": "a9b296a4",
   "metadata": {},
   "source": [
    "Q7. How does bacon.append(99) change the look of the list value in bacon?"
   ]
  },
  {
   "cell_type": "code",
   "execution_count": 12,
   "id": "57735b19",
   "metadata": {},
   "outputs": [
    {
     "data": {
      "text/plain": [
       "[3.14, 'cat', 11, 'cat', True, 99]"
      ]
     },
     "execution_count": 12,
     "metadata": {},
     "output_type": "execute_result"
    }
   ],
   "source": [
    "bacon.append(99) # this will append the value '99' at the end of the list \n",
    "bacon "
   ]
  },
  {
   "cell_type": "markdown",
   "id": "c13c2b1b",
   "metadata": {},
   "source": [
    "Q8. How does bacon.remove(&#39;cat&#39;) change the look of the list in bacon?"
   ]
  },
  {
   "cell_type": "code",
   "execution_count": 13,
   "id": "9917822d",
   "metadata": {},
   "outputs": [
    {
     "data": {
      "text/plain": [
       "[3.14, 11, 'cat', True, 99]"
      ]
     },
     "execution_count": 13,
     "metadata": {},
     "output_type": "execute_result"
    }
   ],
   "source": [
    "bacon.remove('cat') # this will remove the first occuerence of 'cat' from the list bacon.\n",
    "bacon"
   ]
  },
  {
   "cell_type": "markdown",
   "id": "3ae2df3c",
   "metadata": {},
   "source": [
    "Q9. What are the list concatenation and list replication operators?"
   ]
  },
  {
   "cell_type": "markdown",
   "id": "61e9a687",
   "metadata": {},
   "source": [
    "Solution:  \n",
    "    The operation of list concatenation is using '+', while the list replication is '*' . and this same operation can be done with strings."
   ]
  },
  {
   "cell_type": "code",
   "execution_count": 14,
   "id": "7b043668",
   "metadata": {},
   "outputs": [
    {
     "name": "stdout",
     "output_type": "stream",
     "text": [
      "[2, 4, 6, 8, 10, 3.14, 'cat', 11, 'cat', True]\n",
      "[3.14, 'cat', 11, 'cat', True, 3.14, 'cat', 11, 'cat', True]\n"
     ]
    }
   ],
   "source": [
    "spam = [2,4,6,8,10]\n",
    "bacon = [3.14,'cat',11,'cat',True]\n",
    "print(spam + bacon) # list concatenation\n",
    "print(bacon*2) # list replication"
   ]
  },
  {
   "cell_type": "markdown",
   "id": "74b6be34",
   "metadata": {},
   "source": [
    "Q10. What is difference between the list methods append() and insert()?"
   ]
  },
  {
   "cell_type": "markdown",
   "id": "462b0874",
   "metadata": {},
   "source": [
    "Solution:  \n",
    "    The append method will add the element at the end of the list, insert() can add the element anywhere with in the list"
   ]
  },
  {
   "cell_type": "code",
   "execution_count": 15,
   "id": "44063756",
   "metadata": {},
   "outputs": [
    {
     "name": "stdout",
     "output_type": "stream",
     "text": [
      "[1, 2, 3, 4, 5, 7]\n",
      "[1, 2, 'hello', 3, 4, 5, 7]\n"
     ]
    }
   ],
   "source": [
    "l = [1,2,3,4,5]\n",
    "l.append(7) # appending '7' at the end of list.\n",
    "print(l)\n",
    "l.insert(2,'hello') # inserting 'hello' at index position 2 in the list \n",
    "print(l)"
   ]
  },
  {
   "cell_type": "markdown",
   "id": "b9a4fffa",
   "metadata": {},
   "source": [
    "Q11. What are the two methods for removing items from a list?"
   ]
  },
  {
   "cell_type": "markdown",
   "id": "cba3e733",
   "metadata": {},
   "source": [
    "Solution:  \n",
    "    There are two methods to remove element from the list  pop() and remove()."
   ]
  },
  {
   "cell_type": "markdown",
   "id": "773d22da",
   "metadata": {},
   "source": [
    "Q12. Describe how list values and string values are identical."
   ]
  },
  {
   "cell_type": "markdown",
   "id": "0f8a55cb",
   "metadata": {},
   "source": [
    "Solution:  \n",
    "    In both list and string can be used in for loop, be concatented and replicated. list and string can be passed to len() to find the length. "
   ]
  },
  {
   "cell_type": "markdown",
   "id": "3f3bf9b5",
   "metadata": {},
   "source": [
    "Q13. What's the difference between tuples and lists?"
   ]
  },
  {
   "cell_type": "markdown",
   "id": "e2c8abfa",
   "metadata": {},
   "source": [
    "Solution:  \n",
    "    Lists are mutable where tuples are immutable, as both list and tuple are indexable and slicable. tuple values cannot be changed, and tuples are represented by parantheses (), and lists are represented by square brackets []."
   ]
  },
  {
   "cell_type": "markdown",
   "id": "105094b2",
   "metadata": {},
   "source": [
    "Q14. How do you type a tuple value that only contains the integer 42?"
   ]
  },
  {
   "cell_type": "code",
   "execution_count": 20,
   "id": "0fa4e557",
   "metadata": {},
   "outputs": [
    {
     "name": "stdout",
     "output_type": "stream",
     "text": [
      "<class 'int'>\n",
      "<class 'tuple'>\n"
     ]
    }
   ],
   "source": [
    "t1 = (42) # this will be interpreted as integer\n",
    "t2 = (42,) # this will be interpreted as an tuple\n",
    "print(type(t1))\n",
    "print(type(t2))"
   ]
  },
  {
   "cell_type": "markdown",
   "id": "d08e5a62",
   "metadata": {},
   "source": [
    "Q15. How do you get a list value&#39;s tuple form? How do you get a tuple value&#39;s list form?"
   ]
  },
  {
   "cell_type": "markdown",
   "id": "f13d8e84",
   "metadata": {},
   "source": [
    "Solution:  \n",
    "    we can list() function to convert tuple into list, vice versa to convet list into tuple."
   ]
  },
  {
   "cell_type": "code",
   "execution_count": 21,
   "id": "046da686",
   "metadata": {},
   "outputs": [
    {
     "name": "stdout",
     "output_type": "stream",
     "text": [
      "(1, 2, 3, 4)\n"
     ]
    }
   ],
   "source": [
    "l = [1,2,3,4]\n",
    "l1 = tuple(l)\n",
    "print(l1)"
   ]
  },
  {
   "cell_type": "code",
   "execution_count": 22,
   "id": "4ac7d023",
   "metadata": {},
   "outputs": [
    {
     "name": "stdout",
     "output_type": "stream",
     "text": [
      "[1, 2, 3, 4]\n"
     ]
    }
   ],
   "source": [
    "t = (1,2,3,4)\n",
    "t1 = list(t)\n",
    "print(t1)"
   ]
  },
  {
   "cell_type": "markdown",
   "id": "4690fc5b",
   "metadata": {},
   "source": [
    "Q16. Variables that \"contain\" list values are not necessarily lists themselves. Instead, what do they\n",
    "contain?"
   ]
  },
  {
   "cell_type": "markdown",
   "id": "9edc9a90",
   "metadata": {},
   "source": [
    "Solution:  \n",
    "    The variable contains the referances of the list values. "
   ]
  },
  {
   "cell_type": "markdown",
   "id": "d9841b2f",
   "metadata": {},
   "source": [
    "Q17. How do you distinguish between copy.copy() and copy.deepcopy()?"
   ]
  },
  {
   "cell_type": "markdown",
   "id": "07e73732",
   "metadata": {},
   "source": [
    "Solution:  \n",
    "    copy.copy() function will do a shallow copy of the list, and copy.deepcopy() function will do copy a list copy.deepcopy() will duplicate any lists inside the list."
   ]
  },
  {
   "cell_type": "code",
   "execution_count": null,
   "id": "e96339cf",
   "metadata": {},
   "outputs": [],
   "source": []
  }
 ],
 "metadata": {
  "kernelspec": {
   "display_name": "Python 3 (ipykernel)",
   "language": "python",
   "name": "python3"
  },
  "language_info": {
   "codemirror_mode": {
    "name": "ipython",
    "version": 3
   },
   "file_extension": ".py",
   "mimetype": "text/x-python",
   "name": "python",
   "nbconvert_exporter": "python",
   "pygments_lexer": "ipython3",
   "version": "3.9.12"
  }
 },
 "nbformat": 4,
 "nbformat_minor": 5
}
