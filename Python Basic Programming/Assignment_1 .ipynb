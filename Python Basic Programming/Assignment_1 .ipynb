{
 "cells": [
  {
   "cell_type": "markdown",
   "id": "1b308cf2",
   "metadata": {},
   "source": [
    "Q1. Write a Python program to print &quot;Hello Python&quot;?"
   ]
  },
  {
   "cell_type": "code",
   "execution_count": 2,
   "id": "d88dd81e",
   "metadata": {},
   "outputs": [
    {
     "name": "stdout",
     "output_type": "stream",
     "text": [
      "Hello Python\n"
     ]
    }
   ],
   "source": [
    "print('Hello Python')"
   ]
  },
  {
   "cell_type": "markdown",
   "id": "cdc6f5d4",
   "metadata": {},
   "source": [
    "Q2. Write a Python program to do arithmetical operations addition and division.?"
   ]
  },
  {
   "cell_type": "code",
   "execution_count": 11,
   "id": "90182cf2",
   "metadata": {},
   "outputs": [
    {
     "name": "stdout",
     "output_type": "stream",
     "text": [
      "Enter value for a: 3\n",
      "Enter value for b: 4\n",
      "Addition of a and b: 7\n",
      "Division of a and b: 0.75\n"
     ]
    }
   ],
   "source": [
    "a = int(input('Enter value for a: '))\n",
    "b = int(input('Enter value for b: '))\n",
    "\n",
    "print('Addition of a and b:',a+b)\n",
    "print('Division of a and b:',a/b)"
   ]
  },
  {
   "cell_type": "markdown",
   "id": "da340bee",
   "metadata": {},
   "source": [
    "Q3. Write a Python program to find the area of a triangle?"
   ]
  },
  {
   "cell_type": "code",
   "execution_count": 12,
   "id": "1342073a",
   "metadata": {},
   "outputs": [
    {
     "name": "stdout",
     "output_type": "stream",
     "text": [
      "Enter base value: 4\n",
      "Enter height value: 3\n",
      "Area of triangle is:  6.0\n"
     ]
    }
   ],
   "source": [
    "#Area of a triangle \n",
    "base = int(input('Enter base value: '))\n",
    "height  = int(input('Enter height value: '))\n",
    "print(\"Area of triangle is: \", base*height/2)"
   ]
  },
  {
   "cell_type": "markdown",
   "id": "c32770e2",
   "metadata": {},
   "source": [
    "Q4. Write a Python program to swap two variables?"
   ]
  },
  {
   "cell_type": "code",
   "execution_count": 15,
   "id": "b74c2739",
   "metadata": {},
   "outputs": [
    {
     "name": "stdout",
     "output_type": "stream",
     "text": [
      "Enter val1: 2\n",
      "Enter val2: 8\n",
      "value before swapping: 2 8\n",
      "Values after swapping: 8 2\n"
     ]
    }
   ],
   "source": [
    "val1 = int(input(\"Enter val1: \"))\n",
    "val2 = int(input(\"Enter val2: \"))\n",
    "print(\"value before swapping:\", val1, val2)\n",
    "temp = val1\n",
    "val1 = val2\n",
    "val2 = temp\n",
    "print('Values after swapping:', val1, val2)"
   ]
  },
  {
   "cell_type": "markdown",
   "id": "5156fb56",
   "metadata": {},
   "source": [
    "Q5. Write a Python program to generate a random number?"
   ]
  },
  {
   "cell_type": "code",
   "execution_count": 20,
   "id": "a670001e",
   "metadata": {},
   "outputs": [
    {
     "name": "stdout",
     "output_type": "stream",
     "text": [
      "52\n"
     ]
    }
   ],
   "source": [
    "import random\n",
    "\n",
    "ran_number = random.randint(0,100)\n",
    "print(ran_number)"
   ]
  },
  {
   "cell_type": "code",
   "execution_count": null,
   "id": "bc351967",
   "metadata": {},
   "outputs": [],
   "source": []
  }
 ],
 "metadata": {
  "kernelspec": {
   "display_name": "Python 3 (ipykernel)",
   "language": "python",
   "name": "python3"
  },
  "language_info": {
   "codemirror_mode": {
    "name": "ipython",
    "version": 3
   },
   "file_extension": ".py",
   "mimetype": "text/x-python",
   "name": "python",
   "nbconvert_exporter": "python",
   "pygments_lexer": "ipython3",
   "version": "3.9.12"
  }
 },
 "nbformat": 4,
 "nbformat_minor": 5
}
