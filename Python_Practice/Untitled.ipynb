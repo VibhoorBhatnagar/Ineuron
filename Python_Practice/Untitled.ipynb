{
 "cells": [
  {
   "cell_type": "code",
   "execution_count": 15,
   "id": "2b7bd8f5",
   "metadata": {},
   "outputs": [
    {
     "name": "stdout",
     "output_type": "stream",
     "text": [
      "enter the value: 123\n",
      "No\n"
     ]
    }
   ],
   "source": [
    "#Amstrong number \n",
    "i = int(input(\"enter the value: \"))\n",
    "ori_num = i\n",
    "l = len(str(i))\n",
    "sum = 0 \n",
    "\n",
    "while (i>0):\n",
    "    a = i%10\n",
    "    sum += a ** l\n",
    "    i //=10\n",
    "if ori_num == sum:\n",
    "    print(\"yes\")\n",
    "else:\n",
    "    print(\"No\")\n",
    "\n"
   ]
  },
  {
   "cell_type": "code",
   "execution_count": null,
   "id": "cea0478b",
   "metadata": {},
   "outputs": [],
   "source": [
    "num = int(input(\"enter the value\"))\n",
    "\n",
    "order = len(str(num))\n",
    "\n",
    "# initialize sum\n",
    "sum = 0\n",
    "\n",
    "# find the sum of the cube of each digit\n",
    "temp = num\n",
    "while temp > 0:\n",
    "    digit = temp % 10\n",
    "    sum += digit ** order\n",
    "    temp //= 10\n",
    "\n",
    "# display the result\n",
    "if num == sum:\n",
    "    print(num,\"is an Armstrong number\")\n",
    "else:\n",
    "    print(num,\"is not an Armstrong number\")"
   ]
  },
  {
   "cell_type": "code",
   "execution_count": 10,
   "id": "a3af036f",
   "metadata": {},
   "outputs": [
    {
     "name": "stdout",
     "output_type": "stream",
     "text": [
      "Enter any number: 9\n",
      "3 is a prime factor of 9\n"
     ]
    }
   ],
   "source": [
    "\n",
    "n = int(input(\"Enter any number: \"))\n",
    "for i in range (2, n+1):\n",
    "    if n%i == 0: \n",
    "        isPrime = 1\n",
    "    for j in range (2,(i // 2 + 1)):\n",
    "        if i%j == 0:\n",
    "            isPrime = 0\n",
    "            \n",
    "    if isPrime == 1:\n",
    "        print(\"%d is a prime factor of %d\" %(i,n))\n",
    "    "
   ]
  },
  {
   "cell_type": "code",
   "execution_count": 6,
   "id": "56d54222",
   "metadata": {},
   "outputs": [
    {
     "name": "stdout",
     "output_type": "stream",
     "text": [
      " Please Enter any Number: 6\n",
      " 2 is a Prime Factor of a Given Number 6\n",
      " 3 is a Prime Factor of a Given Number 6\n"
     ]
    }
   ],
   "source": [
    "Number = int(input(\" Please Enter any Number: \"))\n",
    "\n",
    "for i in range(2, Number + 1):\n",
    "    if(Number % i == 0):\n",
    "        isprime = 1\n",
    "        for j in range(2, (i //2 + 1)):\n",
    "            if(i % j == 0):\n",
    "                isprime = 0\n",
    "                break\n",
    "            \n",
    "        if (isprime == 1):\n",
    "            print(\" %d is a Prime Factor of a Given Number %d\" %(i, Number))"
   ]
  },
  {
   "cell_type": "code",
   "execution_count": null,
   "id": "6affc5f2",
   "metadata": {},
   "outputs": [],
   "source": []
  }
 ],
 "metadata": {
  "kernelspec": {
   "display_name": "Python 3 (ipykernel)",
   "language": "python",
   "name": "python3"
  },
  "language_info": {
   "codemirror_mode": {
    "name": "ipython",
    "version": 3
   },
   "file_extension": ".py",
   "mimetype": "text/x-python",
   "name": "python",
   "nbconvert_exporter": "python",
   "pygments_lexer": "ipython3",
   "version": "3.9.12"
  }
 },
 "nbformat": 4,
 "nbformat_minor": 5
}
