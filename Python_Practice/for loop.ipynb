{
 "cells": [
  {
   "cell_type": "code",
   "execution_count": 1,
   "id": "2ca67079",
   "metadata": {},
   "outputs": [],
   "source": [
    "l = [1,2,3,4,\"vibhoor\", \"bhatnagar\", 45.56]"
   ]
  },
  {
   "cell_type": "code",
   "execution_count": 2,
   "id": "f3c04d4a",
   "metadata": {},
   "outputs": [
    {
     "name": "stdout",
     "output_type": "stream",
     "text": [
      "1\n",
      "2\n",
      "3\n",
      "4\n",
      "vibhoor\n",
      "bhatnagar\n",
      "45.56\n"
     ]
    }
   ],
   "source": [
    "for i in l:\n",
    "    print(i)"
   ]
  },
  {
   "cell_type": "code",
   "execution_count": 4,
   "id": "6b315b27",
   "metadata": {},
   "outputs": [],
   "source": [
    "for i in l:\n",
    "    pass"
   ]
  },
  {
   "cell_type": "code",
   "execution_count": 5,
   "id": "c95dfcf4",
   "metadata": {},
   "outputs": [
    {
     "name": "stdout",
     "output_type": "stream",
     "text": [
      "v\n",
      "i\n",
      "b\n",
      "h\n"
     ]
    }
   ],
   "source": [
    "s = \"vibh\"\n",
    "for i in s:\n",
    "    print(i)"
   ]
  },
  {
   "cell_type": "code",
   "execution_count": 8,
   "id": "3dcacf3c",
   "metadata": {},
   "outputs": [
    {
     "name": "stdout",
     "output_type": "stream",
     "text": [
      "1\n",
      "2\n",
      "3\n",
      "4\n",
      "vibhoor\n",
      "bhatnagar\n",
      "45.56\n",
      "if for loop is going to complete itself the it will execute else\n"
     ]
    }
   ],
   "source": [
    "for i in l:\n",
    "    print(i)\n",
    "else :\n",
    "    print(\"if for loop is going to complete itself the it will execute else\")"
   ]
  },
  {
   "cell_type": "code",
   "execution_count": 11,
   "id": "86dbafd4",
   "metadata": {},
   "outputs": [
    {
     "name": "stdout",
     "output_type": "stream",
     "text": [
      "1\n",
      "2\n",
      "3\n"
     ]
    }
   ],
   "source": [
    "for i in l:\n",
    "    if i == 4 :\n",
    "        break\n",
    "    print(i)\n",
    "else:\n",
    "    print(\"this will execute only if for is going to complete itself\")"
   ]
  },
  {
   "cell_type": "code",
   "execution_count": 13,
   "id": "f372fd3a",
   "metadata": {},
   "outputs": [
    {
     "name": "stdout",
     "output_type": "stream",
     "text": [
      "v\n",
      "i\n",
      "b\n",
      "h\n"
     ]
    }
   ],
   "source": [
    "s = \"vibhoor\"\n",
    "for i in s:\n",
    "    if i == 'o':\n",
    "        break\n",
    "    print(i)\n",
    "else:\n",
    "    print(\"print string \", s)"
   ]
  },
  {
   "cell_type": "code",
   "execution_count": 15,
   "id": "ccf0a332",
   "metadata": {},
   "outputs": [
    {
     "name": "stdout",
     "output_type": "stream",
     "text": [
      "4\n",
      "5\n",
      "6\n",
      "7\n",
      "8\n",
      "6\n",
      "vibh\n"
     ]
    }
   ],
   "source": [
    "t = (4,5,6,7,8,6,\"vibh\")\n",
    "for i in t:\n",
    "    print(i)"
   ]
  },
  {
   "cell_type": "code",
   "execution_count": 16,
   "id": "cb57553d",
   "metadata": {},
   "outputs": [],
   "source": [
    "b = {4,5,6,7,7,7,7,7,8,\"vibh\"}"
   ]
  },
  {
   "cell_type": "code",
   "execution_count": 17,
   "id": "0773eaaa",
   "metadata": {},
   "outputs": [
    {
     "data": {
      "text/plain": [
       "set"
      ]
     },
     "execution_count": 17,
     "metadata": {},
     "output_type": "execute_result"
    }
   ],
   "source": [
    "type(b)"
   ]
  },
  {
   "cell_type": "code",
   "execution_count": 18,
   "id": "df0f5917",
   "metadata": {},
   "outputs": [
    {
     "data": {
      "text/plain": [
       "{4, 5, 6, 7, 8, 'vibh'}"
      ]
     },
     "execution_count": 18,
     "metadata": {},
     "output_type": "execute_result"
    }
   ],
   "source": [
    "b"
   ]
  },
  {
   "cell_type": "code",
   "execution_count": 19,
   "id": "a73b9fb3",
   "metadata": {},
   "outputs": [
    {
     "name": "stdout",
     "output_type": "stream",
     "text": [
      "4\n",
      "5\n",
      "6\n",
      "7\n",
      "8\n",
      "vibh\n"
     ]
    }
   ],
   "source": [
    "for i in b:\n",
    "    print(i)"
   ]
  },
  {
   "cell_type": "code",
   "execution_count": 20,
   "id": "8bcf26bb",
   "metadata": {},
   "outputs": [],
   "source": [
    "d = {\"key1\":\"vibh\", \"contact\": \"vibhoor@gmail.com\", \"position\":\"xyz\"}"
   ]
  },
  {
   "cell_type": "code",
   "execution_count": 28,
   "id": "c3116ef4",
   "metadata": {},
   "outputs": [
    {
     "name": "stdout",
     "output_type": "stream",
     "text": [
      "key1 : vibh\n",
      "contact : vibhoor@gmail.com\n",
      "position : xyz\n"
     ]
    }
   ],
   "source": [
    "for i in d:\n",
    "    print(i,':', d[i])"
   ]
  },
  {
   "cell_type": "code",
   "execution_count": 26,
   "id": "b6a2926d",
   "metadata": {},
   "outputs": [
    {
     "data": {
      "text/plain": [
       "'vibh'"
      ]
     },
     "execution_count": 26,
     "metadata": {},
     "output_type": "execute_result"
    }
   ],
   "source": [
    "d['key1']"
   ]
  },
  {
   "cell_type": "code",
   "execution_count": 29,
   "id": "8ae30088",
   "metadata": {},
   "outputs": [
    {
     "data": {
      "text/plain": [
       "range(0, 9)"
      ]
     },
     "execution_count": 29,
     "metadata": {},
     "output_type": "execute_result"
    }
   ],
   "source": [
    "range(9)"
   ]
  },
  {
   "cell_type": "code",
   "execution_count": 30,
   "id": "3b003695",
   "metadata": {},
   "outputs": [
    {
     "data": {
      "text/plain": [
       "[0, 1, 2, 3, 4, 5, 6, 7, 8]"
      ]
     },
     "execution_count": 30,
     "metadata": {},
     "output_type": "execute_result"
    }
   ],
   "source": [
    "list(range(9))"
   ]
  },
  {
   "cell_type": "code",
   "execution_count": 31,
   "id": "6f97090a",
   "metadata": {},
   "outputs": [
    {
     "name": "stdout",
     "output_type": "stream",
     "text": [
      "0\n",
      "1\n",
      "2\n",
      "3\n",
      "4\n",
      "5\n",
      "6\n",
      "7\n",
      "8\n"
     ]
    }
   ],
   "source": [
    "for i in range(9):\n",
    "    print(i)"
   ]
  },
  {
   "cell_type": "code",
   "execution_count": 34,
   "id": "b0621185",
   "metadata": {},
   "outputs": [
    {
     "data": {
      "text/plain": [
       "[0, 1, 2, 3, 4, 5, 6, 7, 8]"
      ]
     },
     "execution_count": 34,
     "metadata": {},
     "output_type": "execute_result"
    }
   ],
   "source": [
    "list(range(0,9))\n"
   ]
  },
  {
   "cell_type": "code",
   "execution_count": 35,
   "id": "c71df6fb",
   "metadata": {},
   "outputs": [
    {
     "data": {
      "text/plain": [
       "[0, 2, 4, 6, 8]"
      ]
     },
     "execution_count": 35,
     "metadata": {},
     "output_type": "execute_result"
    }
   ],
   "source": [
    "list(range(0,9,2))"
   ]
  },
  {
   "cell_type": "code",
   "execution_count": 36,
   "id": "e7f34029",
   "metadata": {},
   "outputs": [
    {
     "data": {
      "text/plain": [
       "[]"
      ]
     },
     "execution_count": 36,
     "metadata": {},
     "output_type": "execute_result"
    }
   ],
   "source": [
    "list(range(0,9,-1))"
   ]
  },
  {
   "cell_type": "code",
   "execution_count": 37,
   "id": "4294fde3",
   "metadata": {},
   "outputs": [
    {
     "data": {
      "text/plain": [
       "[9, 8, 7, 6, 5, 4, 3, 2, 1]"
      ]
     },
     "execution_count": 37,
     "metadata": {},
     "output_type": "execute_result"
    }
   ],
   "source": [
    "list(range(9,0,-1))"
   ]
  },
  {
   "cell_type": "code",
   "execution_count": 62,
   "id": "6fd50fdd",
   "metadata": {},
   "outputs": [
    {
     "name": "stdout",
     "output_type": "stream",
     "text": [
      "vibh \n",
      "\n",
      "vibh vibh \n",
      "\n",
      "vibh vibh vibh \n",
      "\n",
      "vibh vibh vibh vibh \n",
      "\n"
     ]
    }
   ],
   "source": [
    "n = 4 \n",
    "for i in range(n):\n",
    "    for j in range(0,i+1):\n",
    "        print(\"vibh\", end = \" \")\n",
    "    print(\"\\n\")"
   ]
  },
  {
   "cell_type": "code",
   "execution_count": 69,
   "id": "b4448661",
   "metadata": {},
   "outputs": [
    {
     "name": "stdout",
     "output_type": "stream",
     "text": [
      "    vibh \n",
      "\n",
      "   vibh vibh \n",
      "\n",
      "  vibh vibh vibh \n",
      "\n",
      " vibh vibh vibh vibh \n",
      "\n"
     ]
    }
   ],
   "source": [
    "n = 4\n",
    "k = n\n",
    "for i in range(n):\n",
    "    k = k-1\n",
    "    print(\" \"*k,end = \" \")\n",
    "    for j in range(i+1):\n",
    "        print( \"vibh\",end = \" \")\n",
    "    print(\"\\n\")"
   ]
  },
  {
   "cell_type": "code",
   "execution_count": 70,
   "id": "70d42553",
   "metadata": {},
   "outputs": [],
   "source": [
    "t = (3,23,45,67,2,4,5,6)"
   ]
  },
  {
   "cell_type": "code",
   "execution_count": 79,
   "id": "970633e2",
   "metadata": {},
   "outputs": [
    {
     "name": "stdout",
     "output_type": "stream",
     "text": [
      "0 3\n",
      "1 23\n",
      "2 45\n",
      "3 67\n",
      "4 2\n",
      "5 4\n",
      "6 5\n",
      "7 6\n"
     ]
    }
   ],
   "source": [
    "for i in range(len(t)):\n",
    "    print(i, t[i])"
   ]
  },
  {
   "cell_type": "code",
   "execution_count": 81,
   "id": "8e9cbf2a",
   "metadata": {},
   "outputs": [
    {
     "name": "stdout",
     "output_type": "stream",
     "text": [
      "0 i\n",
      "1 n\n",
      "2 e\n",
      "3 u\n",
      "4 r\n",
      "5 o\n",
      "6 n\n"
     ]
    }
   ],
   "source": [
    "s = \"ineuron\"\n",
    "for i in range(len(s)):\n",
    "    print(i, s[i])"
   ]
  },
  {
   "cell_type": "code",
   "execution_count": 108,
   "id": "00280632",
   "metadata": {},
   "outputs": [
    {
     "name": "stdout",
     "output_type": "stream",
     "text": [
      "6 n\n",
      "5 o\n",
      "4 r\n",
      "3 u\n",
      "2 e\n",
      "1 n\n",
      "0 i\n"
     ]
    }
   ],
   "source": [
    "s = \"ineuron\"\n",
    "for i in range(len(s)-1, -1, -1): # to print the index in revers order\n",
    "    print(i, s[i])\n",
    "    "
   ]
  },
  {
   "cell_type": "code",
   "execution_count": 2,
   "id": "715ba63f",
   "metadata": {},
   "outputs": [],
   "source": [
    "d = {\"key1\":\"vibh\", \"contact\": \"vibhoor@gmail.com\", \"position\":\"xyz\"}"
   ]
  },
  {
   "cell_type": "code",
   "execution_count": 3,
   "id": "c275309b",
   "metadata": {},
   "outputs": [
    {
     "data": {
      "text/plain": [
       "{'key1': 'vibh', 'contact': 'vibhoor@gmail.com', 'position': 'xyz'}"
      ]
     },
     "execution_count": 3,
     "metadata": {},
     "output_type": "execute_result"
    }
   ],
   "source": [
    "d"
   ]
  },
  {
   "cell_type": "code",
   "execution_count": 5,
   "id": "0f570143",
   "metadata": {},
   "outputs": [
    {
     "name": "stdout",
     "output_type": "stream",
     "text": [
      "('key1', 'vibh') <class 'tuple'> <class 'str'>\n",
      "('contact', 'vibhoor@gmail.com') <class 'tuple'> <class 'str'>\n",
      "('position', 'xyz') <class 'tuple'> <class 'str'>\n"
     ]
    }
   ],
   "source": [
    "for i in d.items():\n",
    "    print(i, type(i), type(i[1]))"
   ]
  },
  {
   "cell_type": "code",
   "execution_count": 11,
   "id": "72126937",
   "metadata": {},
   "outputs": [],
   "source": [
    "l = [\"vibh\", \"bhatnagar\", 987654, \"vb@gmail.com\", 234, 23456678]\n",
    "l1 = []\n",
    "for i in l:\n",
    "    if type(i) == int:\n",
    "        l1.append(i)"
   ]
  },
  {
   "cell_type": "code",
   "execution_count": 12,
   "id": "08599732",
   "metadata": {},
   "outputs": [
    {
     "data": {
      "text/plain": [
       "[987654, 234, 23456678]"
      ]
     },
     "execution_count": 12,
     "metadata": {},
     "output_type": "execute_result"
    }
   ],
   "source": [
    "l1"
   ]
  },
  {
   "cell_type": "code",
   "execution_count": 14,
   "id": "e8955871",
   "metadata": {},
   "outputs": [],
   "source": [
    "d = {1:345453, 'name' : 'vibh', 'email_id' : 'vb@gmail.com', 234:'wsfdgg', '43':'sdfg0', 235:\"3453\"}"
   ]
  },
  {
   "cell_type": "code",
   "execution_count": 18,
   "id": "9439b3e4",
   "metadata": {},
   "outputs": [
    {
     "name": "stdout",
     "output_type": "stream",
     "text": [
      "1 : 345453\n",
      "234 : wsfdgg\n",
      "235 : 3453\n"
     ]
    }
   ],
   "source": [
    "# to get the key value pair from the dictionary where key is numeric.\n",
    "for i in d:\n",
    "    if type(i) == int:\n",
    "        print(i, ':', d[i])"
   ]
  },
  {
   "cell_type": "code",
   "execution_count": 19,
   "id": "74dbfe76",
   "metadata": {},
   "outputs": [],
   "source": [
    "# get the count of each element in the string.\n",
    "s = \"aaaabbccd\""
   ]
  },
  {
   "cell_type": "markdown",
   "id": "902fc682",
   "metadata": {},
   "source": [
    "To get the count first we have to get the unique elements from the string using set(), and then we can get the count of it."
   ]
  },
  {
   "cell_type": "code",
   "execution_count": 31,
   "id": "e5177fce",
   "metadata": {},
   "outputs": [
    {
     "name": "stdout",
     "output_type": "stream",
     "text": [
      "b : 2\n",
      "d : 1\n",
      "c : 2\n",
      "a : 4\n"
     ]
    }
   ],
   "source": [
    "\n",
    "for i in set(s):\n",
    "    print(i,\":\", s.count(i))"
   ]
  },
  {
   "cell_type": "code",
   "execution_count": 32,
   "id": "f7c3c9da",
   "metadata": {},
   "outputs": [],
   "source": [
    "i = 35353464634"
   ]
  },
  {
   "cell_type": "code",
   "execution_count": 41,
   "id": "453c3b7e",
   "metadata": {},
   "outputs": [
    {
     "name": "stdout",
     "output_type": "stream",
     "text": [
      "3\n",
      "5\n",
      "3\n",
      "5\n",
      "3\n",
      "4\n",
      "6\n",
      "4\n",
      "6\n",
      "3\n",
      "4\n"
     ]
    }
   ],
   "source": [
    "# as int is not iterable in for loop we need to type cast it into string.\n",
    "for j in str(i):\n",
    "    print(int(j))\n",
    "    "
   ]
  },
  {
   "cell_type": "code",
   "execution_count": 51,
   "id": "f8cb2fb8",
   "metadata": {},
   "outputs": [],
   "source": [
    "t = (\"vibhoor\", \"bhatnagar\", [1,2,3,4,5], (3,4,5,6), {3:3, 'key2':\"bhatnagr\"})"
   ]
  },
  {
   "cell_type": "code",
   "execution_count": 59,
   "id": "8efd7f85",
   "metadata": {},
   "outputs": [
    {
     "name": "stdout",
     "output_type": "stream",
     "text": [
      "3\n",
      "3\n",
      "3\n",
      "3\n"
     ]
    }
   ],
   "source": [
    "# print out the number '3' from the tuple t.\n",
    "for i in t:\n",
    "    if type(i) == list or type(i) == tuple:\n",
    "        for j in i:\n",
    "            if j == 3:\n",
    "                print(j)\n",
    "    if type(i) == dict:\n",
    "        for k,v in i.items(): # we can get the tuple item for dict into 2 variable.\n",
    "            if k == 3 or v == 3 :\n",
    "                print(k)\n",
    "                print(v)\n",
    "    "
   ]
  },
  {
   "cell_type": "code",
   "execution_count": null,
   "id": "40ea71de",
   "metadata": {},
   "outputs": [],
   "source": [
    "q1 :\n",
    "ineruon \n",
    "ineruon ineruon \n",
    "ineruon ineruon ineruon\n",
    "ineruon ineruon ineruon ineruon\n",
    "\n",
    "q2 :\n",
    "\n",
    "          ineruon\n",
    "    ineruon      ineruon\n",
    "ineruon\t\tineruon \tineruon\n",
    "\tineruon\t\t ineruon\n",
    "\t\t  ineruon\n",
    "\n",
    "l = [[1,2,3,4] , (2,3,4,5,6) , (3,4,5,6,7) , set([23,4,5,45,4,4,5,45,45,4,5]) , {'k1' :\"sudh\" , \"k2\" : \"ineuron\",\"k3\":\n",
    "            \"kumar\" , 3:6 , 7:8} , [\"ineuron\" , \"data science \"]]\n",
    "\n",
    "q3 : Try to extract all the list entity \n",
    "q4 : Try to extract all the dict enteties\n",
    "q5 : Try to extract all the tuples entities\n",
    "q6 : Try to extract all the numerical data it may b a part of dict key and values \n",
    "q7 : Try to give summation of all the numeric data \n",
    "q8 : Try to filter out all the odd values out all numeric data which is a part of a list \n",
    "q9 : Try to extract \"ineruon\" out of this data\n",
    "q10 :Try to find out a number of occurances of all the data \n",
    "q11 : Try to find out number of keys in dict element\n",
    "q12 : Try to filter out all the string data \n",
    "q13 : Try to Find  out alphanum in data\n",
    "q14 : Try to find out multiplication of all numeric value in  the individual collection inside dataset \n",
    "q15 : Try to unwrape all the collection inside collection and create a flat list"
   ]
  },
  {
   "cell_type": "code",
   "execution_count": 62,
   "id": "098fc1cc",
   "metadata": {},
   "outputs": [
    {
     "name": "stdout",
     "output_type": "stream",
     "text": [
      "\n",
      "\n",
      "ineuron \n",
      "\n",
      "ineuron ineuron \n",
      "\n",
      "ineuron ineuron ineuron \n",
      "\n",
      "ineuron ineuron ineuron ineuron \n",
      "\n"
     ]
    }
   ],
   "source": [
    "#Q1. Print pattern of rt▲ of ineuron.\n",
    "\n",
    "for i in range(5):\n",
    "    for j in range(i):\n",
    "        print(\"ineuron\", end=\" \")\n",
    "    print(\"\\n\")\n"
   ]
  },
  {
   "cell_type": "code",
   "execution_count": 75,
   "id": "5b6a7520",
   "metadata": {},
   "outputs": [
    {
     "name": "stdout",
     "output_type": "stream",
     "text": [
      "  ineuron  \n",
      " ineuron ineuron  \n",
      "ineuron ineuron ineuron  \n",
      " ineuron ineuron  \n",
      "  ineuron  \n"
     ]
    }
   ],
   "source": [
    "#Q2. Print pattern of ▲ of ineuron.\n",
    "k = 2 * 2 -2\n",
    "for i in range(0, 2):\n",
    "    for j in range(0,k):\n",
    "        print(end = \" \")\n",
    "    k = k - 1\n",
    "    for j in range(0, i + 1):\n",
    "        print(\"ineuron\", end=\" \")\n",
    "    print(\" \")\n",
    "k = 2-2\n",
    "for i in range(2,-1,-1):\n",
    "    for j in range(k,0,-1):\n",
    "        print(end=\" \")\n",
    "    k = k + 1\n",
    "    for j in range(0, i + 1):\n",
    "        print(\"ineuron\", end = \" \")\n",
    "    print(\" \")"
   ]
  },
  {
   "cell_type": "code",
   "execution_count": 5,
   "id": "7226434f",
   "metadata": {},
   "outputs": [],
   "source": [
    "l = [[1,2,3,4] , (2,3,4,5,6) , (3,4,5,6,7) , set([23,4,5,45,4,4,5,45,45,4,5]) , {'k1' :\"sudh\" , \"k2\" : \"ineuron\",\"k3\":\n",
    "            \"kumar\" , 3:6 , 7:8} , [\"ineuron\" , \"data science \"]]"
   ]
  },
  {
   "cell_type": "code",
   "execution_count": 78,
   "id": "ded249c8",
   "metadata": {},
   "outputs": [
    {
     "name": "stdout",
     "output_type": "stream",
     "text": [
      "[1, 2, 3, 4]\n",
      "['ineuron', 'data science ']\n"
     ]
    }
   ],
   "source": [
    "#Q3 : Try to extract all the list entity \n",
    "for i in l:\n",
    "    if type(i) == list:\n",
    "        print(i)"
   ]
  },
  {
   "cell_type": "code",
   "execution_count": 80,
   "id": "7f9bddb8",
   "metadata": {},
   "outputs": [
    {
     "name": "stdout",
     "output_type": "stream",
     "text": [
      "{'k1': 'sudh', 'k2': 'ineuron', 'k3': 'kumar', 3: 6, 7: 8}\n"
     ]
    }
   ],
   "source": [
    "#Q4 : Try to extract all the dict enteties\n",
    "for i in l:\n",
    "    if type(i) == dict:\n",
    "        print(i)"
   ]
  },
  {
   "cell_type": "code",
   "execution_count": 81,
   "id": "ac90781d",
   "metadata": {},
   "outputs": [
    {
     "name": "stdout",
     "output_type": "stream",
     "text": [
      "(2, 3, 4, 5, 6)\n",
      "(3, 4, 5, 6, 7)\n"
     ]
    }
   ],
   "source": [
    "#Q5 : Try to extract all the tuples entities\n",
    "for i in l:\n",
    "    if type(i) == tuple:\n",
    "        print(i)"
   ]
  },
  {
   "cell_type": "code",
   "execution_count": 140,
   "id": "2b073ee2",
   "metadata": {},
   "outputs": [
    {
     "data": {
      "text/plain": [
       "list"
      ]
     },
     "execution_count": 140,
     "metadata": {},
     "output_type": "execute_result"
    }
   ],
   "source": [
    "l3 = []\n",
    "for i in l:\n",
    "    if type(i) == set:\n",
    "        l3.append(i)\n",
    "type(l3)\n"
   ]
  },
  {
   "cell_type": "code",
   "execution_count": 4,
   "id": "9ef380e5",
   "metadata": {},
   "outputs": [
    {
     "name": "stdout",
     "output_type": "stream",
     "text": [
      "2\n",
      "3\n",
      "4\n",
      "5\n",
      "6\n",
      "3\n",
      "4\n",
      "5\n",
      "6\n",
      "7\n",
      "45\n",
      "4\n",
      "5\n",
      "23\n",
      "3\n",
      "6\n",
      "7\n",
      "8\n"
     ]
    }
   ],
   "source": [
    "#Q6 : Try to extract all the numerical data it may b a part of dict key and values \n",
    "for i in l:\n",
    "    if type(i) == set or type(i) == str or type(i) == tuple:\n",
    "        for j in i:\n",
    "            if type(j) == int:\n",
    "                print(j)\n",
    "    if type(i) == dict:\n",
    "        for j in i.items():\n",
    "            for k in j:\n",
    "                if type(k) == int:\n",
    "                    print(k)"
   ]
  },
  {
   "cell_type": "code",
   "execution_count": 6,
   "id": "9ba521d4",
   "metadata": {},
   "outputs": [
    {
     "data": {
      "text/plain": [
       "8"
      ]
     },
     "execution_count": 6,
     "metadata": {},
     "output_type": "execute_result"
    }
   ],
   "source": [
    "#Q7 : Try to give summation of all the numeric data\n"
   ]
  },
  {
   "cell_type": "code",
   "execution_count": 107,
   "id": "aec4d92e",
   "metadata": {},
   "outputs": [
    {
     "data": {
      "text/plain": [
       "'data science '"
      ]
     },
     "execution_count": 107,
     "metadata": {},
     "output_type": "execute_result"
    }
   ],
   "source": [
    "j"
   ]
  },
  {
   "cell_type": "code",
   "execution_count": null,
   "id": "a7d47d61",
   "metadata": {},
   "outputs": [],
   "source": []
  }
 ],
 "metadata": {
  "kernelspec": {
   "display_name": "Python 3 (ipykernel)",
   "language": "python",
   "name": "python3"
  },
  "language_info": {
   "codemirror_mode": {
    "name": "ipython",
    "version": 3
   },
   "file_extension": ".py",
   "mimetype": "text/x-python",
   "name": "python",
   "nbconvert_exporter": "python",
   "pygments_lexer": "ipython3",
   "version": "3.9.12"
  }
 },
 "nbformat": 4,
 "nbformat_minor": 5
}
