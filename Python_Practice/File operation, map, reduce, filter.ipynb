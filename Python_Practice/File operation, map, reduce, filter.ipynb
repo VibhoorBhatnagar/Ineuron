{
 "cells": [
  {
   "cell_type": "code",
   "execution_count": 1,
   "id": "c9527641",
   "metadata": {},
   "outputs": [],
   "source": [
    "#File operation"
   ]
  },
  {
   "cell_type": "markdown",
   "id": "5df39ea9",
   "metadata": {},
   "source": [
    "This is to create a file in current dir, Here 'w' means mode which operation to perform. If we put 'r' instead if 'w' it means read opeartion."
   ]
  },
  {
   "cell_type": "code",
   "execution_count": 3,
   "id": "6cb5d2d7",
   "metadata": {},
   "outputs": [],
   "source": [
    "f = open(\"text.txt\",'w') "
   ]
  },
  {
   "cell_type": "code",
   "execution_count": 5,
   "id": "04b07149",
   "metadata": {},
   "outputs": [
    {
     "name": "stdout",
     "output_type": "stream",
     "text": [
      " Volume in drive D is Disk\n",
      " Volume Serial Number is 5E7E-A551\n",
      "\n",
      " Directory of D:\\Ineuron\\Python_Practice\n",
      "\n",
      "28-10-2022  18:01    <DIR>          .\n",
      "10-10-2022  15:35    <DIR>          ..\n",
      "03-07-2022  16:03    <DIR>          .idea\n",
      "28-10-2022  17:54    <DIR>          .ipynb_checkpoints\n",
      "28-08-2022  22:33             4,926 Best first search .ipynb\n",
      "08-07-2022  16:01            11,279 Conditional Statement if, elif, else.ipynb\n",
      "24-09-2022  23:57             2,601 CSV to PNG.ipynb\n",
      "28-10-2022  17:37            27,271 Exception Handling .ipynb\n",
      "28-10-2022  18:01             3,049 File operation, map, reduce, filter.ipynb\n",
      "20-07-2022  17:07            22,363 for loop.ipynb\n",
      "23-09-2022  15:42            31,525 Functions.ipynb\n",
      "18-08-2022  22:22            57,399 List, Tuple, Dict.ipynb\n",
      "03-07-2022  15:35               544 main.py\n",
      "24-07-2022  16:45            92,624 reading_and_writing files .ipynb\n",
      "24-07-2022  16:40            94,421 test.json\n",
      "03-07-2022  16:07                 2 test_1.py\n",
      "28-10-2022  17:57                 0 text.txt\n",
      "25-09-2022  18:07               589 Untitled1.ipynb\n",
      "19-08-2022  13:26             4,213 water .ipynb\n",
      "19-08-2022  02:39            12,587 Water Jug problem (2).ipynb\n",
      "20-07-2022  16:40        23,407,987 While Loop.ipynb\n",
      "              17 File(s)     23,773,380 bytes\n",
      "               4 Dir(s)  218,235,133,952 bytes free\n"
     ]
    }
   ],
   "source": [
    "ls"
   ]
  },
  {
   "cell_type": "code",
   "execution_count": 6,
   "id": "22416cde",
   "metadata": {},
   "outputs": [
    {
     "data": {
      "text/plain": [
       "28"
      ]
     },
     "execution_count": 6,
     "metadata": {},
     "output_type": "execute_result"
    }
   ],
   "source": [
    "f.write(\"This is first file operation\")"
   ]
  },
  {
   "cell_type": "code",
   "execution_count": 7,
   "id": "032b1e11",
   "metadata": {},
   "outputs": [],
   "source": [
    "f.close()"
   ]
  },
  {
   "cell_type": "code",
   "execution_count": 8,
   "id": "92997425",
   "metadata": {},
   "outputs": [
    {
     "name": "stdout",
     "output_type": "stream",
     "text": [
      " Volume in drive D is Disk\n",
      " Volume Serial Number is 5E7E-A551\n",
      "\n",
      " Directory of D:\\Ineuron\\Python_Practice\n",
      "\n",
      "28-10-2022  18:01    <DIR>          .\n",
      "10-10-2022  15:35    <DIR>          ..\n",
      "03-07-2022  16:03    <DIR>          .idea\n",
      "28-10-2022  17:54    <DIR>          .ipynb_checkpoints\n",
      "28-08-2022  22:33             4,926 Best first search .ipynb\n",
      "08-07-2022  16:01            11,279 Conditional Statement if, elif, else.ipynb\n",
      "24-09-2022  23:57             2,601 CSV to PNG.ipynb\n",
      "28-10-2022  17:37            27,271 Exception Handling .ipynb\n",
      "28-10-2022  18:01             3,049 File operation, map, reduce, filter.ipynb\n",
      "20-07-2022  17:07            22,363 for loop.ipynb\n",
      "23-09-2022  15:42            31,525 Functions.ipynb\n",
      "18-08-2022  22:22            57,399 List, Tuple, Dict.ipynb\n",
      "03-07-2022  15:35               544 main.py\n",
      "24-07-2022  16:45            92,624 reading_and_writing files .ipynb\n",
      "24-07-2022  16:40            94,421 test.json\n",
      "03-07-2022  16:07                 2 test_1.py\n",
      "28-10-2022  18:02                28 text.txt\n",
      "25-09-2022  18:07               589 Untitled1.ipynb\n",
      "19-08-2022  13:26             4,213 water .ipynb\n",
      "19-08-2022  02:39            12,587 Water Jug problem (2).ipynb\n",
      "20-07-2022  16:40        23,407,987 While Loop.ipynb\n",
      "              17 File(s)     23,773,408 bytes\n",
      "               4 Dir(s)  218,235,133,952 bytes free\n"
     ]
    }
   ],
   "source": [
    "ls"
   ]
  },
  {
   "cell_type": "code",
   "execution_count": 15,
   "id": "3007666f",
   "metadata": {},
   "outputs": [],
   "source": [
    "f1 = open(\"text1.txt\",'w')"
   ]
  },
  {
   "cell_type": "code",
   "execution_count": 16,
   "id": "ebd2ec45",
   "metadata": {},
   "outputs": [],
   "source": [
    "l = [1,2,3,4,5,6,7,8,9,10]"
   ]
  },
  {
   "cell_type": "code",
   "execution_count": 17,
   "id": "754494e2",
   "metadata": {},
   "outputs": [
    {
     "ename": "TypeError",
     "evalue": "write() argument must be str, not list",
     "output_type": "error",
     "traceback": [
      "\u001b[1;31m---------------------------------------------------------------------------\u001b[0m",
      "\u001b[1;31mTypeError\u001b[0m                                 Traceback (most recent call last)",
      "Input \u001b[1;32mIn [17]\u001b[0m, in \u001b[0;36m<cell line: 1>\u001b[1;34m()\u001b[0m\n\u001b[1;32m----> 1\u001b[0m \u001b[43mf1\u001b[49m\u001b[38;5;241;43m.\u001b[39;49m\u001b[43mwrite\u001b[49m\u001b[43m(\u001b[49m\u001b[43ml\u001b[49m\u001b[43m)\u001b[49m\n",
      "\u001b[1;31mTypeError\u001b[0m: write() argument must be str, not list"
     ]
    }
   ],
   "source": [
    "f1.write(l)"
   ]
  },
  {
   "cell_type": "code",
   "execution_count": 18,
   "id": "4b6abcff",
   "metadata": {},
   "outputs": [
    {
     "data": {
      "text/plain": [
       "31"
      ]
     },
     "execution_count": 18,
     "metadata": {},
     "output_type": "execute_result"
    }
   ],
   "source": [
    "f1.write(str(l))"
   ]
  },
  {
   "cell_type": "markdown",
   "id": "984b14b3",
   "metadata": {},
   "source": [
    "Have to close the file once operation is completed, other wise it wont reflect the changes"
   ]
  },
  {
   "cell_type": "code",
   "execution_count": 21,
   "id": "6aba0b24",
   "metadata": {},
   "outputs": [],
   "source": [
    "f1.close() "
   ]
  },
  {
   "cell_type": "code",
   "execution_count": 25,
   "id": "9365e6aa",
   "metadata": {},
   "outputs": [],
   "source": [
    "f3 = open(\"test.vibh\",'w')\n",
    "f3.write(\"test sample file for file operations and can be stored in any file format\")\n",
    "f3.close()"
   ]
  },
  {
   "cell_type": "code",
   "execution_count": 26,
   "id": "d6e52c74",
   "metadata": {},
   "outputs": [
    {
     "name": "stdout",
     "output_type": "stream",
     "text": [
      "Writing text5.txt\n"
     ]
    }
   ],
   "source": [
    "%%writefile text5.txt \n",
    "this is another way to create a file and write into the same."
   ]
  },
  {
   "cell_type": "code",
   "execution_count": 39,
   "id": "b7a9d7b8",
   "metadata": {},
   "outputs": [],
   "source": [
    "f3 = open('text5.txt')"
   ]
  },
  {
   "cell_type": "code",
   "execution_count": 40,
   "id": "99553737",
   "metadata": {},
   "outputs": [
    {
     "data": {
      "text/plain": [
       "'jhsbck hdsbckjh dsh\\n Hello there!!!'"
      ]
     },
     "execution_count": 40,
     "metadata": {},
     "output_type": "execute_result"
    }
   ],
   "source": [
    "f3.read()\n"
   ]
  },
  {
   "cell_type": "code",
   "execution_count": 42,
   "id": "153a910d",
   "metadata": {},
   "outputs": [
    {
     "data": {
      "text/plain": [
       "''"
      ]
     },
     "execution_count": 42,
     "metadata": {},
     "output_type": "execute_result"
    }
   ],
   "source": [
    "f3.read()"
   ]
  },
  {
   "cell_type": "code",
   "execution_count": 43,
   "id": "3b989d91",
   "metadata": {},
   "outputs": [
    {
     "data": {
      "text/plain": [
       "0"
      ]
     },
     "execution_count": 43,
     "metadata": {},
     "output_type": "execute_result"
    }
   ],
   "source": [
    "f3.seek(0) #reset the index pointer of the reader at what ever index point we give."
   ]
  },
  {
   "cell_type": "code",
   "execution_count": 44,
   "id": "c46fa7eb",
   "metadata": {},
   "outputs": [
    {
     "data": {
      "text/plain": [
       "'jhsbck hdsbckjh dsh\\n Hello there!!!'"
      ]
     },
     "execution_count": 44,
     "metadata": {},
     "output_type": "execute_result"
    }
   ],
   "source": [
    "f3.read()"
   ]
  },
  {
   "cell_type": "code",
   "execution_count": 45,
   "id": "b0ff4294",
   "metadata": {},
   "outputs": [
    {
     "data": {
      "text/plain": [
       "5"
      ]
     },
     "execution_count": 45,
     "metadata": {},
     "output_type": "execute_result"
    }
   ],
   "source": [
    "f3.seek(5)"
   ]
  },
  {
   "cell_type": "code",
   "execution_count": 38,
   "id": "f1cb6ba5",
   "metadata": {},
   "outputs": [
    {
     "data": {
      "text/plain": [
       "'is another way to create a file and write into the same.\\n'"
      ]
     },
     "execution_count": 38,
     "metadata": {},
     "output_type": "execute_result"
    }
   ],
   "source": [
    "f3.read()"
   ]
  },
  {
   "cell_type": "code",
   "execution_count": 40,
   "id": "ee170869",
   "metadata": {},
   "outputs": [
    {
     "data": {
      "text/plain": [
       "63"
      ]
     },
     "execution_count": 40,
     "metadata": {},
     "output_type": "execute_result"
    }
   ],
   "source": [
    "f3.tell() # will tell yoy the ponter location."
   ]
  },
  {
   "cell_type": "code",
   "execution_count": 42,
   "id": "3f24ef97",
   "metadata": {},
   "outputs": [
    {
     "data": {
      "text/plain": [
       "0"
      ]
     },
     "execution_count": 42,
     "metadata": {},
     "output_type": "execute_result"
    }
   ],
   "source": [
    "f3.seek(0)"
   ]
  },
  {
   "cell_type": "code",
   "execution_count": 43,
   "id": "218d6b9e",
   "metadata": {},
   "outputs": [
    {
     "data": {
      "text/plain": [
       "'this is another'"
      ]
     },
     "execution_count": 43,
     "metadata": {},
     "output_type": "execute_result"
    }
   ],
   "source": [
    "f3.read(15) #from the current location it will read first 15 locations"
   ]
  },
  {
   "cell_type": "code",
   "execution_count": 5,
   "id": "dbf4b4b2",
   "metadata": {},
   "outputs": [],
   "source": [
    "f2 = open('text5.txt','w')"
   ]
  },
  {
   "cell_type": "code",
   "execution_count": 6,
   "id": "a374f62e",
   "metadata": {},
   "outputs": [
    {
     "data": {
      "text/plain": [
       "20"
      ]
     },
     "execution_count": 6,
     "metadata": {},
     "output_type": "execute_result"
    }
   ],
   "source": [
    "f2.write(\"\"\"jhsbck hdsbckjh dsh \"\"\")"
   ]
  },
  {
   "cell_type": "code",
   "execution_count": 7,
   "id": "dd1487b0",
   "metadata": {},
   "outputs": [],
   "source": [
    "f2.close()"
   ]
  },
  {
   "cell_type": "code",
   "execution_count": 13,
   "id": "3d764524",
   "metadata": {},
   "outputs": [],
   "source": [
    "f2 = open('text5.txt','a') # a for append mode \n"
   ]
  },
  {
   "cell_type": "code",
   "execution_count": 14,
   "id": "0c36264b",
   "metadata": {},
   "outputs": [
    {
     "data": {
      "text/plain": [
       "16"
      ]
     },
     "execution_count": 14,
     "metadata": {},
     "output_type": "execute_result"
    }
   ],
   "source": [
    "f2.write(\"\\n Hello there!!!\")"
   ]
  },
  {
   "cell_type": "code",
   "execution_count": 15,
   "id": "1aa13b8f",
   "metadata": {},
   "outputs": [],
   "source": [
    "f2.close()"
   ]
  },
  {
   "cell_type": "code",
   "execution_count": 16,
   "id": "64f9c220",
   "metadata": {},
   "outputs": [
    {
     "data": {
      "text/plain": [
       "'text5.txt'"
      ]
     },
     "execution_count": 16,
     "metadata": {},
     "output_type": "execute_result"
    }
   ],
   "source": [
    "f2.name #get file name "
   ]
  },
  {
   "cell_type": "code",
   "execution_count": 17,
   "id": "3cce452c",
   "metadata": {},
   "outputs": [
    {
     "data": {
      "text/plain": [
       "True"
      ]
     },
     "execution_count": 17,
     "metadata": {},
     "output_type": "execute_result"
    }
   ],
   "source": [
    "f2.closed #if closed or not "
   ]
  },
  {
   "cell_type": "code",
   "execution_count": 19,
   "id": "314334c5",
   "metadata": {},
   "outputs": [
    {
     "data": {
      "text/plain": [
       "'a'"
      ]
     },
     "execution_count": 19,
     "metadata": {},
     "output_type": "execute_result"
    }
   ],
   "source": [
    "f2.mode # get in which mode the file is in"
   ]
  },
  {
   "cell_type": "markdown",
   "id": "6ae92921",
   "metadata": {},
   "source": [
    "### Map, reduce, filter functions"
   ]
  },
  {
   "cell_type": "code",
   "execution_count": 37,
   "id": "11da6388",
   "metadata": {},
   "outputs": [],
   "source": [
    "#Square of range 4 \n",
    "a = range(4)\n",
    "a1 = []\n",
    "for i in l:\n",
    "    a1.append(i**2)\n"
   ]
  },
  {
   "cell_type": "code",
   "execution_count": 38,
   "id": "a3638b46",
   "metadata": {},
   "outputs": [
    {
     "data": {
      "text/plain": [
       "[0, 1, 4, 9]"
      ]
     },
     "execution_count": 38,
     "metadata": {},
     "output_type": "execute_result"
    }
   ],
   "source": [
    "a1"
   ]
  },
  {
   "cell_type": "code",
   "execution_count": 1,
   "id": "800d4989",
   "metadata": {},
   "outputs": [],
   "source": [
    "#sqr of every number.\n",
    "l = [2,3,4,5,5,6]\n",
    "l1 = []\n",
    "for i in l:\n",
    "    l1.append(i**2)"
   ]
  },
  {
   "cell_type": "code",
   "execution_count": 2,
   "id": "2a32d054",
   "metadata": {},
   "outputs": [
    {
     "data": {
      "text/plain": [
       "[4, 9, 16, 25, 25, 36]"
      ]
     },
     "execution_count": 2,
     "metadata": {},
     "output_type": "execute_result"
    }
   ],
   "source": [
    "l1"
   ]
  },
  {
   "cell_type": "code",
   "execution_count": 4,
   "id": "ee6040b3",
   "metadata": {},
   "outputs": [],
   "source": [
    "def sq(n):\n",
    "    return n**2"
   ]
  },
  {
   "cell_type": "code",
   "execution_count": 6,
   "id": "47e405a1",
   "metadata": {},
   "outputs": [
    {
     "data": {
      "text/plain": [
       "[4, 9, 16, 25, 25, 36]"
      ]
     },
     "execution_count": 6,
     "metadata": {},
     "output_type": "execute_result"
    }
   ],
   "source": [
    "list(map(sq,l))"
   ]
  },
  {
   "cell_type": "code",
   "execution_count": 8,
   "id": "88230765",
   "metadata": {},
   "outputs": [
    {
     "data": {
      "text/plain": [
       "[4, 9, 16, 25, 25, 36]"
      ]
     },
     "execution_count": 8,
     "metadata": {},
     "output_type": "execute_result"
    }
   ],
   "source": [
    "list(map(lambda x: x**2, l))"
   ]
  },
  {
   "cell_type": "code",
   "execution_count": 9,
   "id": "3021750b",
   "metadata": {},
   "outputs": [
    {
     "data": {
      "text/plain": [
       "['2', '3', '4', '5', '5', '6']"
      ]
     },
     "execution_count": 9,
     "metadata": {},
     "output_type": "execute_result"
    }
   ],
   "source": [
    "list(map(lambda x: str(x),l))"
   ]
  },
  {
   "cell_type": "code",
   "execution_count": 10,
   "id": "81626a00",
   "metadata": {},
   "outputs": [],
   "source": [
    "def str_c(n):\n",
    "    return str(n)"
   ]
  },
  {
   "cell_type": "code",
   "execution_count": 11,
   "id": "3f99813f",
   "metadata": {},
   "outputs": [
    {
     "data": {
      "text/plain": [
       "['2', '3', '4', '5', '5', '6']"
      ]
     },
     "execution_count": 11,
     "metadata": {},
     "output_type": "execute_result"
    }
   ],
   "source": [
    "list(map(str_c,l))"
   ]
  },
  {
   "cell_type": "code",
   "execution_count": null,
   "id": "9ebed2b6",
   "metadata": {},
   "outputs": [],
   "source": []
  },
  {
   "cell_type": "code",
   "execution_count": 13,
   "id": "9ff17dac",
   "metadata": {},
   "outputs": [],
   "source": [
    "from functools import reduce"
   ]
  },
  {
   "cell_type": "code",
   "execution_count": 14,
   "id": "aad076cf",
   "metadata": {},
   "outputs": [],
   "source": [
    "l = [3,4,5,6,7,8,9]"
   ]
  },
  {
   "cell_type": "code",
   "execution_count": 15,
   "id": "64e13111",
   "metadata": {},
   "outputs": [
    {
     "data": {
      "text/plain": [
       "42"
      ]
     },
     "execution_count": 15,
     "metadata": {},
     "output_type": "execute_result"
    }
   ],
   "source": [
    "sum(l)"
   ]
  },
  {
   "cell_type": "code",
   "execution_count": 17,
   "id": "24a75498",
   "metadata": {},
   "outputs": [
    {
     "data": {
      "text/plain": [
       "42"
      ]
     },
     "execution_count": 17,
     "metadata": {},
     "output_type": "execute_result"
    }
   ],
   "source": [
    "reduce(lambda a,b: a+b,l) # In reduce function we have to use to argument."
   ]
  },
  {
   "cell_type": "markdown",
   "id": "cdea3d38",
   "metadata": {},
   "source": [
    "Filter Function"
   ]
  },
  {
   "cell_type": "code",
   "execution_count": 23,
   "id": "784744ec",
   "metadata": {},
   "outputs": [],
   "source": [
    "l = [1,2,3,4,45,5,6]"
   ]
  },
  {
   "cell_type": "code",
   "execution_count": 24,
   "id": "5f71a82f",
   "metadata": {},
   "outputs": [
    {
     "data": {
      "text/plain": [
       "[2, 4, 6]"
      ]
     },
     "execution_count": 24,
     "metadata": {},
     "output_type": "execute_result"
    }
   ],
   "source": [
    "list(filter(lambda x : x%2==0,l)) #even number "
   ]
  },
  {
   "cell_type": "code",
   "execution_count": 27,
   "id": "c6656786",
   "metadata": {},
   "outputs": [],
   "source": [
    "def check_even(n):\n",
    "    if n%2==0:\n",
    "        return True"
   ]
  },
  {
   "cell_type": "code",
   "execution_count": 29,
   "id": "e03918e7",
   "metadata": {},
   "outputs": [
    {
     "data": {
      "text/plain": [
       "[2, 4, 6]"
      ]
     },
     "execution_count": 29,
     "metadata": {},
     "output_type": "execute_result"
    }
   ],
   "source": [
    "list(filter(check_even,l))"
   ]
  },
  {
   "cell_type": "code",
   "execution_count": 2,
   "id": "fa694080",
   "metadata": {},
   "outputs": [],
   "source": [
    "def genfib1(n):\n",
    "    a = 1 \n",
    "    b = 1 \n",
    "    for i in range(n):\n",
    "        yield a\n",
    "        a,b = b, a+b\n",
    "    "
   ]
  },
  {
   "cell_type": "code",
   "execution_count": 27,
   "id": "b3c281a7",
   "metadata": {},
   "outputs": [
    {
     "name": "stdout",
     "output_type": "stream",
     "text": [
      "1\n",
      "1\n",
      "2\n",
      "3\n",
      "5\n",
      "8\n",
      "13\n",
      "21\n",
      "34\n",
      "55\n"
     ]
    }
   ],
   "source": [
    "save_csv = open('prediction.csv', 'w')\n",
    "for i in genfib1(10):\n",
    "    save_csv.write(str(i)+'\\n')\n",
    "    print(i)\n",
    "save_csv.close()"
   ]
  },
  {
   "cell_type": "code",
   "execution_count": 4,
   "id": "019ba671",
   "metadata": {},
   "outputs": [],
   "source": [
    "save_csv = open('prediction.csv', 'w')"
   ]
  },
  {
   "cell_type": "code",
   "execution_count": 9,
   "id": "5bc5321f",
   "metadata": {},
   "outputs": [
    {
     "data": {
      "text/plain": [
       "2"
      ]
     },
     "execution_count": 9,
     "metadata": {},
     "output_type": "execute_result"
    }
   ],
   "source": [
    "save_csv.write(str(i))"
   ]
  },
  {
   "cell_type": "code",
   "execution_count": 10,
   "id": "b9856df8",
   "metadata": {},
   "outputs": [],
   "source": [
    "save_csv.close()"
   ]
  },
  {
   "cell_type": "code",
   "execution_count": null,
   "id": "b94a07c0",
   "metadata": {},
   "outputs": [],
   "source": []
  }
 ],
 "metadata": {
  "kernelspec": {
   "display_name": "Python 3 (ipykernel)",
   "language": "python",
   "name": "python3"
  },
  "language_info": {
   "codemirror_mode": {
    "name": "ipython",
    "version": 3
   },
   "file_extension": ".py",
   "mimetype": "text/x-python",
   "name": "python",
   "nbconvert_exporter": "python",
   "pygments_lexer": "ipython3",
   "version": "3.9.12"
  }
 },
 "nbformat": 4,
 "nbformat_minor": 5
}
