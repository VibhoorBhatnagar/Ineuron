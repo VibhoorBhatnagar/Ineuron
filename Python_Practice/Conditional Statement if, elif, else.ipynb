{
 "cells": [
  {
   "cell_type": "code",
   "execution_count": 4,
   "id": "ec90c2bf",
   "metadata": {},
   "outputs": [
    {
     "name": "stdout",
     "output_type": "stream",
     "text": [
      "first condition\n"
     ]
    }
   ],
   "source": [
    "a = 10\n",
    "if a == 10 :\n",
    "    print(\"first condition\")"
   ]
  },
  {
   "cell_type": "code",
   "execution_count": 5,
   "id": "2fef2428",
   "metadata": {},
   "outputs": [],
   "source": [
    "a = 10\n",
    "if a > 5:\n",
    "    pass # will pass this statement and will not return any output"
   ]
  },
  {
   "cell_type": "code",
   "execution_count": 7,
   "id": "e4a8e895",
   "metadata": {},
   "outputs": [],
   "source": [
    "a = 10\n",
    "if a < 8:\n",
    "    print(\"print this if condition is true\")\n",
    "    "
   ]
  },
  {
   "cell_type": "code",
   "execution_count": 11,
   "id": "76eb91d1",
   "metadata": {},
   "outputs": [
    {
     "name": "stdout",
     "output_type": "stream",
     "text": [
      "print this statement\n"
     ]
    }
   ],
   "source": [
    "a = 10\n",
    "if a == 11:\n",
    "    print(\"my condition is false\")\n",
    "else: \n",
    "    print(\"print this statement\")"
   ]
  },
  {
   "cell_type": "code",
   "execution_count": 14,
   "id": "b8f3899d",
   "metadata": {},
   "outputs": [
    {
     "name": "stdout",
     "output_type": "stream",
     "text": [
      "we are trying to compare 10 with 11\n"
     ]
    }
   ],
   "source": [
    "a = 10\n",
    "if a == 12:\n",
    "    print(\"we are trying to compare 10 with 12\")\n",
    "elif a ==10:\n",
    "    print (\"we are trying to compare 10 with 11\")\n",
    "else :\n",
    "     print(\"If all the blocks will fail then do this\")"
   ]
  },
  {
   "cell_type": "code",
   "execution_count": 19,
   "id": "b86a6c87",
   "metadata": {},
   "outputs": [
    {
     "name": "stdout",
     "output_type": "stream",
     "text": [
      "for sure i will be able to buy\n"
     ]
    }
   ],
   "source": [
    "price = 500\n",
    "if price > 500  :\n",
    "    price(\"I wont be able to buy a jacket\")\n",
    "elif price < 500:\n",
    "    print(\"I will be able to buy a jacket\")\n",
    "elif price == 500:\n",
    "    print(\"for sure i will be able to buy\")\n",
    "else : \n",
    "    print(\"I dont know\")"
   ]
  },
  {
   "cell_type": "code",
   "execution_count": 21,
   "id": "409ce355",
   "metadata": {},
   "outputs": [
    {
     "name": "stdout",
     "output_type": "stream",
     "text": [
      "try to perform thid task\n"
     ]
    }
   ],
   "source": [
    "l = [1,2,3,4,5,6]\n",
    "if 2 in l:\n",
    "    print(\"try to perform thid task\")\n",
    "else:\n",
    "    print(\"do not perfor this task\")"
   ]
  },
  {
   "cell_type": "code",
   "execution_count": 24,
   "id": "a2829480",
   "metadata": {},
   "outputs": [
    {
     "name": "stdout",
     "output_type": "stream",
     "text": [
      "try to do Sub\n",
      "this is a new statement\n"
     ]
    }
   ],
   "source": [
    "if 10 in l :\n",
    "    print(\"try to do addition\")\n",
    "elif 2 in l:\n",
    "    print(\"try to do Sub\")\n",
    "elif 3 in l:\n",
    "    print(\"try to do Mul\")\n",
    "## In if elif condition when ever the condition is true it will execute and exit \n",
    "if 4 in l:\n",
    "    print(\"this is a new statement\")# this if will be a new block not a part if previous block."
   ]
  },
  {
   "cell_type": "code",
   "execution_count": 25,
   "id": "69826fd3",
   "metadata": {},
   "outputs": [],
   "source": [
    "a = 400"
   ]
  },
  {
   "cell_type": "code",
   "execution_count": 30,
   "id": "1b0dcb17",
   "metadata": {},
   "outputs": [
    {
     "name": "stdout",
     "output_type": "stream",
     "text": [
      "400\n"
     ]
    }
   ],
   "source": [
    "b = input() # for user input and the default formate will be string format."
   ]
  },
  {
   "cell_type": "code",
   "execution_count": 31,
   "id": "21f5dadb",
   "metadata": {},
   "outputs": [
    {
     "data": {
      "text/plain": [
       "str"
      ]
     },
     "execution_count": 31,
     "metadata": {},
     "output_type": "execute_result"
    }
   ],
   "source": [
    "type(b)"
   ]
  },
  {
   "cell_type": "code",
   "execution_count": 33,
   "id": "929599c6",
   "metadata": {},
   "outputs": [
    {
     "name": "stdout",
     "output_type": "stream",
     "text": [
      "400\n"
     ]
    }
   ],
   "source": [
    "# If we need an integer we need to type casting \n",
    "c = int(input())"
   ]
  },
  {
   "cell_type": "code",
   "execution_count": 35,
   "id": "7a46fceb",
   "metadata": {},
   "outputs": [
    {
     "data": {
      "text/plain": [
       "int"
      ]
     },
     "execution_count": 35,
     "metadata": {},
     "output_type": "execute_result"
    }
   ],
   "source": [
    "type(c)"
   ]
  },
  {
   "cell_type": "code",
   "execution_count": 1,
   "id": "ae716a63",
   "metadata": {},
   "outputs": [
    {
     "name": "stdout",
     "output_type": "stream",
     "text": [
      "600\n",
      "i wont be able to buy anything at this price\n",
      "Lets try something else\n"
     ]
    }
   ],
   "source": [
    "price = int(input())\n",
    "if price < 500:\n",
    "    print(\"i will be able to buy something\")\n",
    "    if price < 400: \n",
    "        print(\"i will be able to buy a jacket\")\n",
    "    elif price < 300:\n",
    "        print(\"i will be able to buy a shirt\")\n",
    "        if price < 200:\n",
    "            print(\"i would like to do something\")\n",
    "    else:\n",
    "        print(\"i wont be able to buy anything\")\n",
    "else: \n",
    "    print(\"i wont be able to buy anything at this price\")\n",
    "    if price  > 500:\n",
    "        print(\"Lets try something else\")"
   ]
  },
  {
   "cell_type": "code",
   "execution_count": 10,
   "id": "02273dc1",
   "metadata": {},
   "outputs": [
    {
     "name": "stdout",
     "output_type": "stream",
     "text": [
      "300\n",
      "NO GRE\n",
      "TOFEL\n",
      "Try somthing else\n"
     ]
    }
   ],
   "source": [
    "mark = int(input())\n",
    "if mark < 600:\n",
    "    print(\"NO GRE\")\n",
    "    if mark < 500:\n",
    "        print(\"TOFEL\")\n",
    "        if mark < 400:\n",
    "            print(\"Try somthing else\")\n",
    "    else:\n",
    "         print(\"You got TOFEL\")\n",
    "else: \n",
    "    print(\"You got GRE\")"
   ]
  },
  {
   "cell_type": "code",
   "execution_count": 14,
   "id": "ae79e3d9",
   "metadata": {},
   "outputs": [
    {
     "name": "stdout",
     "output_type": "stream",
     "text": [
      "enter a floating point number 0\n",
      "entered value is zero\n"
     ]
    }
   ],
   "source": [
    "val = float(input(\"enter a floating point number \"))\n",
    "if val >= 0:\n",
    "    if val == 0 :\n",
    "        print(\"entered value is zero\")\n",
    "    else:\n",
    "        print(\"entered number is a positive number\")\n",
    "else : \n",
    "    print(\"entered number is a negative number\")"
   ]
  },
  {
   "cell_type": "code",
   "execution_count": 17,
   "id": "b19e4373",
   "metadata": {},
   "outputs": [
    {
     "name": "stdout",
     "output_type": "stream",
     "text": [
      "try to do something\n"
     ]
    }
   ],
   "source": [
    " a = 10 \n",
    "if a < 10 and a == 10 :\n",
    "    print(\"try to do something\")"
   ]
  },
  {
   "cell_type": "code",
   "execution_count": 20,
   "id": "d88d2847",
   "metadata": {},
   "outputs": [
    {
     "name": "stdout",
     "output_type": "stream",
     "text": [
      "Is this vibh\n"
     ]
    }
   ],
   "source": [
    "a = \"vibh\"\n",
    "if a ==\"vibh\" or a == \"Vibh\":\n",
    "    print(\"Is this vibh\")"
   ]
  },
  {
   "cell_type": "code",
   "execution_count": 25,
   "id": "2f3723ca",
   "metadata": {},
   "outputs": [
    {
     "name": "stdout",
     "output_type": "stream",
     "text": [
      "do something\n"
     ]
    }
   ],
   "source": [
    "a = 10 \n",
    "b = 11\n",
    "c = 12\n",
    "d = 13\n",
    "if a == 9 or b ==11 and c == 12 and d ==13:\n",
    "    print(\"do something\")"
   ]
  },
  {
   "cell_type": "code",
   "execution_count": 26,
   "id": "3abea3ee",
   "metadata": {},
   "outputs": [],
   "source": [
    "d = {'key1' : \"value\", \"key2\": \"vibh\",\"key3\":\"ineuron\"}"
   ]
  },
  {
   "cell_type": "code",
   "execution_count": 28,
   "id": "c5bea62e",
   "metadata": {},
   "outputs": [
    {
     "name": "stdout",
     "output_type": "stream",
     "text": [
      " all the values are not verifired\n"
     ]
    }
   ],
   "source": [
    "if d['key1'] == \"value\" and d['key2'] == \"Vibh\" and d['key3'] == \"ineuron\" :\n",
    "    print(\"all the values are verified\")\n",
    "    print(d.values())\n",
    "else: \n",
    "    print(\" all the values are not verifired\")"
   ]
  },
  {
   "cell_type": "code",
   "execution_count": 29,
   "id": "4875d992",
   "metadata": {},
   "outputs": [],
   "source": [
    "l = [1,2,3,4,5,\"vibh\",234.45]\n"
   ]
  },
  {
   "cell_type": "code",
   "execution_count": 42,
   "id": "5d83ca3e",
   "metadata": {},
   "outputs": [
    {
     "data": {
      "text/plain": [
       "[1, 2, 3, 4, 5, 'vibh', 234.45]"
      ]
     },
     "execution_count": 42,
     "metadata": {},
     "output_type": "execute_result"
    }
   ],
   "source": [
    "l"
   ]
  },
  {
   "cell_type": "code",
   "execution_count": 43,
   "id": "12c99546",
   "metadata": {},
   "outputs": [
    {
     "name": "stdout",
     "output_type": "stream",
     "text": [
      "2\n",
      "3\n",
      "4\n",
      "5\n",
      "6\n",
      "vibh1\n",
      "235.45\n"
     ]
    }
   ],
   "source": [
    "for i in l:\n",
    "    if type(i) == int or type(i) == float:\n",
    "        print(i+1)\n",
    "    elif type(i) == str:\n",
    "        print(i + str(1))\n",
    "    "
   ]
  },
  {
   "cell_type": "code",
   "execution_count": 45,
   "id": "b855fcd2",
   "metadata": {},
   "outputs": [
    {
     "name": "stdout",
     "output_type": "stream",
     "text": [
      "[1, 2, 3, 4, 5]\n"
     ]
    }
   ],
   "source": [
    "# to get only the integer from the list\n",
    "l1 = []\n",
    "for i in l:\n",
    "    if type(i) == int:\n",
    "        l1.append(i)\n",
    "print(l1)"
   ]
  },
  {
   "cell_type": "code",
   "execution_count": 46,
   "id": "ed020697",
   "metadata": {},
   "outputs": [
    {
     "name": "stdout",
     "output_type": "stream",
     "text": [
      "vibh\n"
     ]
    }
   ],
   "source": [
    "for i in l:\n",
    "    if type(i) == str:\n",
    "        print(i)"
   ]
  },
  {
   "cell_type": "code",
   "execution_count": null,
   "id": "bbc152de",
   "metadata": {},
   "outputs": [],
   "source": []
  }
 ],
 "metadata": {
  "kernelspec": {
   "display_name": "Python 3 (ipykernel)",
   "language": "python",
   "name": "python3"
  },
  "language_info": {
   "codemirror_mode": {
    "name": "ipython",
    "version": 3
   },
   "file_extension": ".py",
   "mimetype": "text/x-python",
   "name": "python",
   "nbconvert_exporter": "python",
   "pygments_lexer": "ipython3",
   "version": "3.9.7"
  }
 },
 "nbformat": 4,
 "nbformat_minor": 5
}
