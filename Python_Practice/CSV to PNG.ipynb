{
 "cells": [
  {
   "cell_type": "code",
   "execution_count": 1,
   "id": "23013c02",
   "metadata": {},
   "outputs": [
    {
     "name": "stdout",
     "output_type": "stream",
     "text": [
      "Collecting aspose-cells\n",
      "  Downloading aspose-cells-22.9.0.tar.gz (12.2 MB)\n",
      "     -------------------------------------- 12.2/12.2 MB 370.5 kB/s eta 0:00:00\n",
      "  Preparing metadata (setup.py): started\n",
      "  Preparing metadata (setup.py): finished with status 'done'\n",
      "Collecting JPype1>=1.2.1\n",
      "  Downloading JPype1-1.4.0-cp39-cp39-win_amd64.whl (344 kB)\n",
      "     ------------------------------------ 344.7/344.7 kB 301.3 kB/s eta 0:00:00\n",
      "Building wheels for collected packages: aspose-cells\n",
      "  Building wheel for aspose-cells (setup.py): started\n",
      "  Building wheel for aspose-cells (setup.py): finished with status 'done'\n",
      "  Created wheel for aspose-cells: filename=aspose_cells-22.9.0-py3-none-any.whl size=12204271 sha256=283a694d1cf88b787bb402a07c69506f8acaeb67cd4b623d627255df17d619eb\n",
      "  Stored in directory: c:\\users\\vibho\\appdata\\local\\pip\\cache\\wheels\\57\\aa\\14\\d370c85b39b35b0198a96ed0d78c32d6a7f4e736528592f297\n",
      "Successfully built aspose-cells\n",
      "Installing collected packages: JPype1, aspose-cells\n",
      "Successfully installed JPype1-1.4.0 aspose-cells-22.9.0\n",
      "Note: you may need to restart the kernel to use updated packages.\n"
     ]
    }
   ],
   "source": [
    "pip install aspose-cells"
   ]
  },
  {
   "cell_type": "code",
   "execution_count": 1,
   "id": "f00925cf",
   "metadata": {},
   "outputs": [],
   "source": [
    "import  jpype     \n",
    "import  asposecells     \n",
    "jpype.startJVM() \n",
    "from asposecells.api import Workbook\n",
    "workbook = Workbook(\"C:/Users/vibho/Downloads/The Eiffel Tower.csv\")\n",
    "workbook.save(\"C:/Users/vibho/Downloads/The Eiffel Tower.png\")\n",
    "jpype.shutdownJVM()\n"
   ]
  },
  {
   "cell_type": "code",
   "execution_count": null,
   "id": "4d2dd4c7",
   "metadata": {},
   "outputs": [],
   "source": []
  }
 ],
 "metadata": {
  "kernelspec": {
   "display_name": "Python 3 (ipykernel)",
   "language": "python",
   "name": "python3"
  },
  "language_info": {
   "codemirror_mode": {
    "name": "ipython",
    "version": 3
   },
   "file_extension": ".py",
   "mimetype": "text/x-python",
   "name": "python",
   "nbconvert_exporter": "python",
   "pygments_lexer": "ipython3",
   "version": "3.9.12"
  }
 },
 "nbformat": 4,
 "nbformat_minor": 5
}
