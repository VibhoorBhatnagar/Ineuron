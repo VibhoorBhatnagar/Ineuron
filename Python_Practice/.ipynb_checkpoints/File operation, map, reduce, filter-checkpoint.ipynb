{
 "cells": [
  {
   "cell_type": "code",
   "execution_count": 1,
   "id": "b1433a54",
   "metadata": {},
   "outputs": [],
   "source": [
    "#File operation"
   ]
  },
  {
   "cell_type": "code",
   "execution_count": 3,
   "id": "e9956330",
   "metadata": {},
   "outputs": [],
   "source": [
    "f = open(\"text.txt\",'w')"
   ]
  },
  {
   "cell_type": "code",
   "execution_count": null,
   "id": "e95689be",
   "metadata": {},
   "outputs": [],
   "source": []
  }
 ],
 "metadata": {
  "kernelspec": {
   "display_name": "Python 3 (ipykernel)",
   "language": "python",
   "name": "python3"
  },
  "language_info": {
   "codemirror_mode": {
    "name": "ipython",
    "version": 3
   },
   "file_extension": ".py",
   "mimetype": "text/x-python",
   "name": "python",
   "nbconvert_exporter": "python",
   "pygments_lexer": "ipython3",
   "version": "3.9.12"
  }
 },
 "nbformat": 4,
 "nbformat_minor": 5
}
