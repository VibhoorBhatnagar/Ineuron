{
 "cells": [
  {
   "cell_type": "code",
   "execution_count": 1,
   "id": "039ad59e",
   "metadata": {},
   "outputs": [],
   "source": [
    "def test(a,b):\n",
    "    return a + b"
   ]
  },
  {
   "cell_type": "code",
   "execution_count": 2,
   "id": "03a439a8",
   "metadata": {},
   "outputs": [
    {
     "data": {
      "text/plain": [
       "10"
      ]
     },
     "execution_count": 2,
     "metadata": {},
     "output_type": "execute_result"
    }
   ],
   "source": [
    "test(4,6)"
   ]
  },
  {
   "cell_type": "code",
   "execution_count": 3,
   "id": "f6f3a95c",
   "metadata": {},
   "outputs": [
    {
     "data": {
      "text/plain": [
       "'vibhoor bhatnagar'"
      ]
     },
     "execution_count": 3,
     "metadata": {},
     "output_type": "execute_result"
    }
   ],
   "source": [
    "test('vibhoor ', 'bhatnagar')"
   ]
  },
  {
   "cell_type": "code",
   "execution_count": 4,
   "id": "4244d41f",
   "metadata": {},
   "outputs": [],
   "source": [
    "def test1(a,b,c,d,e):\n",
    "    return a,b,c,d,e"
   ]
  },
  {
   "cell_type": "code",
   "execution_count": 10,
   "id": "47bbc112",
   "metadata": {},
   "outputs": [
    {
     "ename": "TypeError",
     "evalue": "test1() missing 1 required positional argument: 'e'",
     "output_type": "error",
     "traceback": [
      "\u001b[1;31m---------------------------------------------------------------------------\u001b[0m",
      "\u001b[1;31mTypeError\u001b[0m                                 Traceback (most recent call last)",
      "Input \u001b[1;32mIn [10]\u001b[0m, in \u001b[0;36m<cell line: 1>\u001b[1;34m()\u001b[0m\n\u001b[1;32m----> 1\u001b[0m \u001b[43mtest1\u001b[49m\u001b[43m(\u001b[49m\u001b[38;5;241;43m3\u001b[39;49m\u001b[43m,\u001b[49m\u001b[38;5;241;43m4\u001b[39;49m\u001b[43m,\u001b[49m\u001b[38;5;241;43m5\u001b[39;49m\u001b[43m,\u001b[49m\u001b[38;5;241;43m6\u001b[39;49m\u001b[43m)\u001b[49m\n",
      "\u001b[1;31mTypeError\u001b[0m: test1() missing 1 required positional argument: 'e'"
     ]
    }
   ],
   "source": [
    "test1(3,4,5,6)"
   ]
  },
  {
   "cell_type": "code",
   "execution_count": 8,
   "id": "d7c3b54f",
   "metadata": {},
   "outputs": [],
   "source": [
    "def test(*a):  # '*a' - static of a, we can add n no.of parameter \n",
    "    return a"
   ]
  },
  {
   "cell_type": "code",
   "execution_count": 9,
   "id": "1e3f4a09",
   "metadata": {},
   "outputs": [
    {
     "data": {
      "text/plain": [
       "(34, 34, 56, 99)"
      ]
     },
     "execution_count": 9,
     "metadata": {},
     "output_type": "execute_result"
    }
   ],
   "source": [
    " test(34 ,34,56,99)"
   ]
  },
  {
   "cell_type": "code",
   "execution_count": 1,
   "id": "84e19446",
   "metadata": {},
   "outputs": [],
   "source": [
    "def test5(*a):\n",
    "    l=[]\n",
    "    for i in a:\n",
    "        l.append(i)\n",
    "    return l"
   ]
  },
  {
   "cell_type": "code",
   "execution_count": 3,
   "id": "5b096f71",
   "metadata": {},
   "outputs": [
    {
     "data": {
      "text/plain": [
       "[2, 3, 4, 5, 6, [654, 666, 777]]"
      ]
     },
     "execution_count": 3,
     "metadata": {},
     "output_type": "execute_result"
    }
   ],
   "source": [
    "test5(2,3,4,5,6,[654,666,777])"
   ]
  },
  {
   "cell_type": "code",
   "execution_count": 4,
   "id": "36f857bf",
   "metadata": {},
   "outputs": [],
   "source": [
    "def test6(a,b,c,d, *m):\n",
    "    return a,b,c,d,m"
   ]
  },
  {
   "cell_type": "code",
   "execution_count": 5,
   "id": "bf511bce",
   "metadata": {},
   "outputs": [
    {
     "data": {
      "text/plain": [
       "(3, 4, 5, 6, ((1, 2, 3, 4, 5, 6, 7, 8),))"
      ]
     },
     "execution_count": 5,
     "metadata": {},
     "output_type": "execute_result"
    }
   ],
   "source": [
    "test6(3,4,5,6,(1,2,3,4,5,6,7,8))"
   ]
  },
  {
   "cell_type": "code",
   "execution_count": 6,
   "id": "9792a40b",
   "metadata": {},
   "outputs": [],
   "source": [
    "def test7(*m,a,b,c,d):\n",
    "    return m,a,b,c,d"
   ]
  },
  {
   "cell_type": "code",
   "execution_count": null,
   "id": "4c1ed490",
   "metadata": {},
   "outputs": [],
   "source": []
  },
  {
   "cell_type": "code",
   "execution_count": null,
   "id": "b324814f",
   "metadata": {},
   "outputs": [],
   "source": []
  },
  {
   "cell_type": "code",
   "execution_count": null,
   "id": "8b46db44",
   "metadata": {},
   "outputs": [],
   "source": []
  },
  {
   "cell_type": "code",
   "execution_count": null,
   "id": "1e3a00c6",
   "metadata": {},
   "outputs": [],
   "source": []
  },
  {
   "cell_type": "code",
   "execution_count": null,
   "id": "c6382598",
   "metadata": {},
   "outputs": [],
   "source": []
  },
  {
   "cell_type": "code",
   "execution_count": null,
   "id": "ee0f96c5",
   "metadata": {},
   "outputs": [],
   "source": []
  },
  {
   "cell_type": "code",
   "execution_count": null,
   "id": "eaccbfee",
   "metadata": {},
   "outputs": [],
   "source": []
  },
  {
   "cell_type": "code",
   "execution_count": 6,
   "id": "1b830fce",
   "metadata": {},
   "outputs": [
    {
     "name": "stdout",
     "output_type": "stream",
     "text": [
      "ask: hello\n"
     ]
    },
    {
     "ename": "KeyboardInterrupt",
     "evalue": "",
     "output_type": "error",
     "traceback": [
      "\u001b[1;31m---------------------------------------------------------------------------\u001b[0m",
      "\u001b[1;31mKeyboardInterrupt\u001b[0m                         Traceback (most recent call last)",
      "Input \u001b[1;32mIn [6]\u001b[0m, in \u001b[0;36m<cell line: 2>\u001b[1;34m()\u001b[0m\n\u001b[0;32m      1\u001b[0m us \u001b[38;5;241m=\u001b[39m \u001b[38;5;28minput\u001b[39m(\u001b[38;5;124m\"\u001b[39m\u001b[38;5;124mask: \u001b[39m\u001b[38;5;124m\"\u001b[39m)\n\u001b[0;32m      2\u001b[0m \u001b[38;5;28;01mwhile\u001b[39;00m us \u001b[38;5;241m!=\u001b[39m \u001b[38;5;124m'\u001b[39m\u001b[38;5;124mthanks\u001b[39m\u001b[38;5;124m'\u001b[39m:\n\u001b[1;32m----> 3\u001b[0m     d \u001b[38;5;241m=\u001b[39m {\u001b[38;5;124m'\u001b[39m\u001b[38;5;124mhello\u001b[39m\u001b[38;5;124m'\u001b[39m: \u001b[38;5;124m'\u001b[39m\u001b[38;5;124mYes \u001b[39m\u001b[38;5;124m'\u001b[39m, \u001b[38;5;124m'\u001b[39m\u001b[38;5;124mHey\u001b[39m\u001b[38;5;124m'\u001b[39m:\u001b[38;5;124m'\u001b[39m\u001b[38;5;124mbye\u001b[39m\u001b[38;5;124m'\u001b[39m}\n\u001b[0;32m      4\u001b[0m \u001b[38;5;28mprint\u001b[39m(d\u001b[38;5;241m.\u001b[39mget(us, \u001b[38;5;124m'\u001b[39m\u001b[38;5;124m'\u001b[39m))\n",
      "\u001b[1;31mKeyboardInterrupt\u001b[0m: "
     ]
    }
   ],
   "source": [
    "us = input(\"ask: \")\n",
    "while us = 'thanks':\n",
    "    d = {'hello': 'Yes ', 'Hey':'bye'}\n",
    "print(d.get(us, ''))\n"
   ]
  },
  {
   "cell_type": "code",
   "execution_count": 1,
   "id": "8344a49b",
   "metadata": {},
   "outputs": [
    {
     "name": "stdout",
     "output_type": "stream",
     "text": [
      "ask: hello\n",
      "Yes \n",
      "ask: Hey\n",
      "Hello\n",
      "ask: thank you\n"
     ]
    }
   ],
   "source": [
    "d = {'hello': 'Yes ', 'Hey':'Hello'}\n",
    "while True:\n",
    "    us = input(\"ask: \")\n",
    "    if (us == 'thank you'):\n",
    "        break\n",
    "    else:\n",
    "        print(d[us])\n",
    "    "
   ]
  },
  {
   "cell_type": "code",
   "execution_count": null,
   "id": "17003aa9",
   "metadata": {},
   "outputs": [
    {
     "name": "stderr",
     "output_type": "stream",
     "text": [
      "<>:10: SyntaxWarning: \"is\" with a literal. Did you mean \"==\"?\n",
      "<>:10: SyntaxWarning: \"is\" with a literal. Did you mean \"==\"?\n",
      "C:\\Users\\vibho\\AppData\\Local\\Temp\\ipykernel_6860\\3766659256.py:10: SyntaxWarning: \"is\" with a literal. Did you mean \"==\"?\n",
      "  elif x != 0 and y is 0:\n"
     ]
    },
    {
     "name": "stdout",
     "output_type": "stream",
     "text": [
      "x\ty\n",
      "maximum capacity of A : 3\n",
      "maximum capacity of B :4\n",
      "How much capacity To fill : 2\n",
      "0\t0\n",
      "maximum capacity of A : 3\n",
      "maximum capacity of B :4\n",
      "How much capacity To fill : 2\n",
      "0\t0\n"
     ]
    }
   ],
   "source": [
    "def state(x,y):\n",
    "    A = int(input(\"maximum capacity of A : \"))\n",
    "    B = int(input(\"maximum capacity of B :\"))\n",
    "    fill = int(input(\"How much capacity To fill : \"))\n",
    "    print(\"%d\\t%d\" % (x, y))\n",
    "    if y is fill:\n",
    "        return\n",
    "    elif y is B:\n",
    "        state(0, x)\n",
    "    elif x != 0 and y is 0:\n",
    "        state(0, x)\n",
    "    elif x is fill:\n",
    "        state(x, 0)\n",
    "    elif x < x:\n",
    "        state(x, y)\n",
    "    elif x < (B-y):\n",
    "        state(0, (x+y))\n",
    "    else:\n",
    "        state(x-(B-y), (B-y)+y)\n",
    " \n",
    "print(\"x\\ty\")\n",
    "state(0, 0)"
   ]
  },
  {
   "cell_type": "code",
   "execution_count": 5,
   "id": "e3a51542",
   "metadata": {},
   "outputs": [
    {
     "name": "stdout",
     "output_type": "stream",
     "text": [
      "JUG1\tJUG2\n",
      "0\t0\n",
      "3\t0\n",
      "0\t3\n",
      "3\t3\n",
      "2\t4\n",
      "0\t2\n"
     ]
    },
    {
     "name": "stderr",
     "output_type": "stream",
     "text": [
      "<>:8: SyntaxWarning: \"is\" with a literal. Did you mean \"==\"?\n",
      "<>:8: SyntaxWarning: \"is\" with a literal. Did you mean \"==\"?\n",
      "C:\\Users\\vibho\\AppData\\Local\\Temp\\ipykernel_14912\\128884784.py:8: SyntaxWarning: \"is\" with a literal. Did you mean \"==\"?\n",
      "  elif jug1 != 0 and jug2 is 0:\n"
     ]
    }
   ],
   "source": [
    "def pour(jug1, jug2):\n",
    "    max1, max2, fill = 3, 4, 2 #Change maximum capacity and final capacity\n",
    "    print(\"%d\\t%d\" % (jug1, jug2))\n",
    "    if jug2 is fill:\n",
    "        return\n",
    "    elif jug2 is max2:\n",
    "        pour(0, jug1)\n",
    "    elif jug1 != 0 and jug2 is 0:\n",
    "        pour(0, jug1)\n",
    "    elif jug1 is fill:\n",
    "        pour(jug1, 0)\n",
    "    elif jug1 < max1:\n",
    "        pour(max1, jug2)\n",
    "    elif jug1 < (max2-jug2):\n",
    "        pour(0, (jug1+jug2))\n",
    "    else:\n",
    "        pour(jug1-(max2-jug2), (max2-jug2)+jug2)\n",
    " \n",
    "print(\"JUG1\\tJUG2\")\n",
    "pour(0, 0)"
   ]
  },
  {
   "cell_type": "code",
   "execution_count": 2,
   "id": "f8a93fee",
   "metadata": {},
   "outputs": [
    {
     "name": "stderr",
     "output_type": "stream",
     "text": [
      "<>:12: SyntaxWarning: \"is\" with a literal. Did you mean \"==\"?\n",
      "<>:12: SyntaxWarning: \"is\" with a literal. Did you mean \"==\"?\n"
     ]
    },
    {
     "name": "stdout",
     "output_type": "stream",
     "text": [
      "maximum capacity of A : 2\n",
      "maximum capacity of B :5\n",
      "How much capacity To fill : 3\n",
      "JUG1\tJUG2\n",
      "0\t0\n",
      "2\t0\n",
      "0\t2\n",
      "2\t2\n",
      "0\t4\n",
      "2\t4\n",
      "1\t5\n",
      "0\t1\n",
      "2\t1\n",
      "0\t3\n"
     ]
    },
    {
     "name": "stderr",
     "output_type": "stream",
     "text": [
      "C:\\Users\\vibho\\AppData\\Local\\Temp\\ipykernel_7740\\1096859525.py:12: SyntaxWarning: \"is\" with a literal. Did you mean \"==\"?\n",
      "  elif jug1 != 0 and jug2 is 0:\n"
     ]
    }
   ],
   "source": [
    "A = int(input(\"maximum capacity of A : \"))\n",
    "B = int(input(\"maximum capacity of B :\"))\n",
    "h_fill = int(input(\"How much capacity To fill : \"))\n",
    "def pour(jug1, jug2):\n",
    "    max1, max2, fill = A, B, h_fill #Change maximum capacity and final capacity\n",
    " \n",
    "    print(\"%d\\t%d\" % (jug1, jug2))\n",
    "    if jug2 is fill:\n",
    "        return\n",
    "    elif jug2 is max2:\n",
    "        pour(0, jug1)\n",
    "    elif jug1 != 0 and jug2 is 0:\n",
    "        pour(0, jug1)\n",
    "    elif jug1 is fill:\n",
    "        pour(jug1, 0)\n",
    "    elif jug1 < max1:\n",
    "        pour(max1, jug2)\n",
    "    elif jug1 < (max2-jug2):\n",
    "        pour(0, (jug1+jug2))\n",
    "    else:\n",
    "        pour(jug1-(max2-jug2), (max2-jug2)+jug2)\n",
    "\n",
    "print(\"JUG1\\tJUG2\")\n",
    "pour(0, 0)"
   ]
  },
  {
   "cell_type": "code",
   "execution_count": 2,
   "id": "de9914a2",
   "metadata": {},
   "outputs": [
    {
     "name": "stdout",
     "output_type": "stream",
     "text": [
      "Path for the water jug problem is as follows:\n",
      "Jug_1\tJug_2\n",
      "0\t\t0\n",
      "2\t\t0\n",
      "2\t\t5\n",
      "0\t\t5\n",
      "2\t\t3\n",
      "0\t\t3\n"
     ]
    },
    {
     "data": {
      "text/plain": [
       "True"
      ]
     },
     "execution_count": 2,
     "metadata": {},
     "output_type": "execute_result"
    }
   ],
   "source": [
    "from collections import defaultdict\n",
    "\n",
    "visited = defaultdict(lambda: False)\n",
    "\n",
    "\n",
    "def find_fill_path(jug_1, jug_2):\n",
    "    global limit_of_jug_1, limit_of_jug_2, target_fill\n",
    "\n",
    "    if (jug_1 == target_fill and jug_2 == 0) or (jug_2 == target_fill and jug_1 == 0):\n",
    "        print(jug_1, jug_2, sep=\"\\t\\t\")\n",
    "        return True\n",
    "\n",
    "    if not visited[(jug_1, jug_2)]:\n",
    "        print(jug_1, jug_2, sep=\"\\t\\t\")\n",
    "\n",
    "        visited[(jug_1, jug_2)] = True\n",
    "\n",
    "        return (find_fill_path(0, jug_2) or\n",
    "                find_fill_path(jug_1, 0) or\n",
    "                find_fill_path(limit_of_jug_1, jug_2) or\n",
    "                find_fill_path(jug_1, limit_of_jug_2) or\n",
    "                find_fill_path(jug_1 + min(jug_2, (limit_of_jug_1 - jug_1)),\n",
    "                               jug_2 - min(jug_2, (limit_of_jug_1 - jug_1))) or\n",
    "                find_fill_path(jug_1 - min(jug_1, (limit_of_jug_2 - jug_2)),\n",
    "                               jug_2 + min(jug_1, (limit_of_jug_2 - jug_2))))\n",
    "    else:\n",
    "        return False\n",
    "\n",
    "\n",
    "limit_of_jug_1 = 2\n",
    "limit_of_jug_2 = 5\n",
    "target_fill = 3\n",
    "print(\"Path for the water jug problem is as follows:\")\n",
    "print(\"Jug_1\\tJug_2\")\n",
    "find_fill_path(0,0)"
   ]
  },
  {
   "cell_type": "code",
   "execution_count": null,
   "id": "194dcf34",
   "metadata": {},
   "outputs": [],
   "source": []
  },
  {
   "cell_type": "code",
   "execution_count": null,
   "id": "bb0002f0",
   "metadata": {},
   "outputs": [],
   "source": []
  }
 ],
 "metadata": {
  "kernelspec": {
   "display_name": "Python 3 (ipykernel)",
   "language": "python",
   "name": "python3"
  },
  "language_info": {
   "codemirror_mode": {
    "name": "ipython",
    "version": 3
   },
   "file_extension": ".py",
   "mimetype": "text/x-python",
   "name": "python",
   "nbconvert_exporter": "python",
   "pygments_lexer": "ipython3",
   "version": "3.9.12"
  }
 },
 "nbformat": 4,
 "nbformat_minor": 5
}
