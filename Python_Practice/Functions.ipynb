{
 "cells": [
  {
   "cell_type": "code",
   "execution_count": 1,
   "id": "039ad59e",
   "metadata": {},
   "outputs": [],
   "source": [
    "def test(a,b):\n",
    "    return a + b"
   ]
  },
  {
   "cell_type": "code",
   "execution_count": 2,
   "id": "03a439a8",
   "metadata": {},
   "outputs": [
    {
     "data": {
      "text/plain": [
       "10"
      ]
     },
     "execution_count": 2,
     "metadata": {},
     "output_type": "execute_result"
    }
   ],
   "source": [
    "test(4,6)"
   ]
  },
  {
   "cell_type": "code",
   "execution_count": 3,
   "id": "f6f3a95c",
   "metadata": {},
   "outputs": [
    {
     "data": {
      "text/plain": [
       "'vibhoor bhatnagar'"
      ]
     },
     "execution_count": 3,
     "metadata": {},
     "output_type": "execute_result"
    }
   ],
   "source": [
    "test('vibhoor ', 'bhatnagar')"
   ]
  },
  {
   "cell_type": "code",
   "execution_count": 4,
   "id": "4244d41f",
   "metadata": {},
   "outputs": [],
   "source": [
    "def test1(a,b,c,d,e):\n",
    "    return a,b,c,d,e"
   ]
  },
  {
   "cell_type": "code",
   "execution_count": 10,
   "id": "47bbc112",
   "metadata": {},
   "outputs": [
    {
     "ename": "TypeError",
     "evalue": "test1() missing 1 required positional argument: 'e'",
     "output_type": "error",
     "traceback": [
      "\u001b[1;31m---------------------------------------------------------------------------\u001b[0m",
      "\u001b[1;31mTypeError\u001b[0m                                 Traceback (most recent call last)",
      "Input \u001b[1;32mIn [10]\u001b[0m, in \u001b[0;36m<cell line: 1>\u001b[1;34m()\u001b[0m\n\u001b[1;32m----> 1\u001b[0m \u001b[43mtest1\u001b[49m\u001b[43m(\u001b[49m\u001b[38;5;241;43m3\u001b[39;49m\u001b[43m,\u001b[49m\u001b[38;5;241;43m4\u001b[39;49m\u001b[43m,\u001b[49m\u001b[38;5;241;43m5\u001b[39;49m\u001b[43m,\u001b[49m\u001b[38;5;241;43m6\u001b[39;49m\u001b[43m)\u001b[49m\n",
      "\u001b[1;31mTypeError\u001b[0m: test1() missing 1 required positional argument: 'e'"
     ]
    }
   ],
   "source": [
    "test1(3,4,5,6)"
   ]
  },
  {
   "cell_type": "code",
   "execution_count": 8,
   "id": "d7c3b54f",
   "metadata": {},
   "outputs": [],
   "source": [
    "def test(*a):  # '*a' - static of a, we can add n no.of parameter \n",
    "    return a"
   ]
  },
  {
   "cell_type": "code",
   "execution_count": 9,
   "id": "1e3f4a09",
   "metadata": {},
   "outputs": [
    {
     "data": {
      "text/plain": [
       "(34, 34, 56, 99)"
      ]
     },
     "execution_count": 9,
     "metadata": {},
     "output_type": "execute_result"
    }
   ],
   "source": [
    " test(34 ,34,56,99)"
   ]
  },
  {
   "cell_type": "code",
   "execution_count": 1,
   "id": "84e19446",
   "metadata": {},
   "outputs": [],
   "source": [
    "def test5(*a):\n",
    "    l=[]\n",
    "    for i in a:\n",
    "        l.append(i)\n",
    "    return l"
   ]
  },
  {
   "cell_type": "code",
   "execution_count": 3,
   "id": "1fde058e",
   "metadata": {},
   "outputs": [
    {
     "data": {
      "text/plain": [
       "[2, 3, 4, 5, 6, [654, 666, 777]]"
      ]
     },
     "execution_count": 3,
     "metadata": {},
     "output_type": "execute_result"
    }
   ],
   "source": [
    "test5(2,3,4,5,6,[654,666,777])"
   ]
  },
  {
   "cell_type": "code",
   "execution_count": 4,
   "id": "0248ac5f",
   "metadata": {},
   "outputs": [],
   "source": [
    "def test6(a,b,c,d, *m):\n",
    "    return a,b,c,d,m"
   ]
  },
  {
   "cell_type": "code",
   "execution_count": 5,
   "id": "dca7bdfd",
   "metadata": {},
   "outputs": [
    {
     "data": {
      "text/plain": [
       "(3, 4, 5, 6, ((1, 2, 3, 4, 5, 6, 7, 8),))"
      ]
     },
     "execution_count": 5,
     "metadata": {},
     "output_type": "execute_result"
    }
   ],
   "source": [
    "test6(3,4,5,6,(1,2,3,4,5,6,7,8))"
   ]
  },
  {
   "cell_type": "code",
   "execution_count": 6,
   "id": "fbd086b1",
   "metadata": {},
   "outputs": [],
   "source": [
    "def test7(*m,a,b,c,d):\n",
    "    return m,a,b,c,d"
   ]
  },
  {
   "cell_type": "code",
   "execution_count": 8,
   "id": "a12fc77d",
   "metadata": {},
   "outputs": [
    {
     "ename": "TypeError",
     "evalue": "test7() missing 4 required keyword-only arguments: 'a', 'b', 'c', and 'd'",
     "output_type": "error",
     "traceback": [
      "\u001b[1;31m---------------------------------------------------------------------------\u001b[0m",
      "\u001b[1;31mTypeError\u001b[0m                                 Traceback (most recent call last)",
      "Input \u001b[1;32mIn [8]\u001b[0m, in \u001b[0;36m<cell line: 1>\u001b[1;34m()\u001b[0m\n\u001b[1;32m----> 1\u001b[0m \u001b[43mtest7\u001b[49m\u001b[43m(\u001b[49m\u001b[38;5;241;43m3\u001b[39;49m\u001b[43m,\u001b[49m\u001b[38;5;241;43m4\u001b[39;49m\u001b[43m,\u001b[49m\u001b[38;5;241;43m5\u001b[39;49m\u001b[43m,\u001b[49m\u001b[38;5;241;43m6\u001b[39;49m\u001b[43m,\u001b[49m\u001b[38;5;241;43m1\u001b[39;49m\u001b[43m,\u001b[49m\u001b[38;5;241;43m2\u001b[39;49m\u001b[43m,\u001b[49m\u001b[38;5;241;43m3\u001b[39;49m\u001b[43m,\u001b[49m\u001b[38;5;241;43m4\u001b[39;49m\u001b[43m,\u001b[49m\u001b[38;5;241;43m5\u001b[39;49m\u001b[43m,\u001b[49m\u001b[38;5;241;43m6\u001b[39;49m\u001b[43m,\u001b[49m\u001b[38;5;241;43m7\u001b[39;49m\u001b[43m,\u001b[49m\u001b[38;5;241;43m8\u001b[39;49m\u001b[43m)\u001b[49m\n",
      "\u001b[1;31mTypeError\u001b[0m: test7() missing 4 required keyword-only arguments: 'a', 'b', 'c', and 'd'"
     ]
    }
   ],
   "source": [
    "test7(3,4,5,6,1,2,3,4,5,6,7,8)"
   ]
  },
  {
   "cell_type": "code",
   "execution_count": 10,
   "id": "c8bade33",
   "metadata": {},
   "outputs": [
    {
     "data": {
      "text/plain": [
       "((3, 4, 5, 6, 1, 2, 3, 4), 5, 6, 7, 8)"
      ]
     },
     "execution_count": 10,
     "metadata": {},
     "output_type": "execute_result"
    }
   ],
   "source": [
    " # to solve the above issue we have to manually assigne the values  \n",
    "test7(3,4,5,6,1,2,3,4,a = 5,b = 6,c = 7,d = 8)"
   ]
  },
  {
   "cell_type": "code",
   "execution_count": null,
   "id": "9dba26df",
   "metadata": {},
   "outputs": [],
   "source": []
  },
  {
   "cell_type": "code",
   "execution_count": null,
   "id": "cdd96ceb",
   "metadata": {},
   "outputs": [],
   "source": []
  },
  {
   "cell_type": "code",
   "execution_count": null,
   "id": "21c880e2",
   "metadata": {},
   "outputs": [],
   "source": []
  },
  {
   "cell_type": "code",
   "execution_count": null,
   "id": "d95090cf",
   "metadata": {},
   "outputs": [],
   "source": []
  },
  {
   "cell_type": "code",
   "execution_count": null,
   "id": "62c810ee",
   "metadata": {},
   "outputs": [],
   "source": []
  },
  {
   "cell_type": "code",
   "execution_count": 6,
   "id": "1b830fce",
   "metadata": {},
   "outputs": [
    {
     "name": "stdout",
     "output_type": "stream",
     "text": [
      "ask: hello\n"
     ]
    },
    {
     "ename": "KeyboardInterrupt",
     "evalue": "",
     "output_type": "error",
     "traceback": [
      "\u001b[1;31m---------------------------------------------------------------------------\u001b[0m",
      "\u001b[1;31mKeyboardInterrupt\u001b[0m                         Traceback (most recent call last)",
      "Input \u001b[1;32mIn [6]\u001b[0m, in \u001b[0;36m<cell line: 2>\u001b[1;34m()\u001b[0m\n\u001b[0;32m      1\u001b[0m us \u001b[38;5;241m=\u001b[39m \u001b[38;5;28minput\u001b[39m(\u001b[38;5;124m\"\u001b[39m\u001b[38;5;124mask: \u001b[39m\u001b[38;5;124m\"\u001b[39m)\n\u001b[0;32m      2\u001b[0m \u001b[38;5;28;01mwhile\u001b[39;00m us \u001b[38;5;241m!=\u001b[39m \u001b[38;5;124m'\u001b[39m\u001b[38;5;124mthanks\u001b[39m\u001b[38;5;124m'\u001b[39m:\n\u001b[1;32m----> 3\u001b[0m     d \u001b[38;5;241m=\u001b[39m {\u001b[38;5;124m'\u001b[39m\u001b[38;5;124mhello\u001b[39m\u001b[38;5;124m'\u001b[39m: \u001b[38;5;124m'\u001b[39m\u001b[38;5;124mYes \u001b[39m\u001b[38;5;124m'\u001b[39m, \u001b[38;5;124m'\u001b[39m\u001b[38;5;124mHey\u001b[39m\u001b[38;5;124m'\u001b[39m:\u001b[38;5;124m'\u001b[39m\u001b[38;5;124mbye\u001b[39m\u001b[38;5;124m'\u001b[39m}\n\u001b[0;32m      4\u001b[0m \u001b[38;5;28mprint\u001b[39m(d\u001b[38;5;241m.\u001b[39mget(us, \u001b[38;5;124m'\u001b[39m\u001b[38;5;124m'\u001b[39m))\n",
      "\u001b[1;31mKeyboardInterrupt\u001b[0m: "
     ]
    }
   ],
   "source": [
    "us = input(\"ask: \")\n",
    "while us = 'thanks':\n",
    "    d = {'hello': 'Yes ', 'Hey':'bye'}\n",
    "print(d.get(us, ''))\n"
   ]
  },
  {
   "cell_type": "code",
   "execution_count": 1,
   "id": "8344a49b",
   "metadata": {},
   "outputs": [
    {
     "name": "stdout",
     "output_type": "stream",
     "text": [
      "ask: hello\n",
      "Yes \n",
      "ask: Hey\n",
      "Hello\n",
      "ask: thank you\n"
     ]
    }
   ],
   "source": [
    "d = {'hello': 'Yes ', 'Hey':'Hello'}\n",
    "while True:\n",
    "    us = input(\"ask: \")\n",
    "    if (us == 'thank you'):\n",
    "        break\n",
    "    else:\n",
    "        print(d[us])\n",
    "    "
   ]
  },
  {
   "cell_type": "code",
   "execution_count": null,
   "id": "17003aa9",
   "metadata": {},
   "outputs": [
    {
     "name": "stderr",
     "output_type": "stream",
     "text": [
      "<>:10: SyntaxWarning: \"is\" with a literal. Did you mean \"==\"?\n",
      "<>:10: SyntaxWarning: \"is\" with a literal. Did you mean \"==\"?\n",
      "C:\\Users\\vibho\\AppData\\Local\\Temp\\ipykernel_6860\\3766659256.py:10: SyntaxWarning: \"is\" with a literal. Did you mean \"==\"?\n",
      "  elif x != 0 and y is 0:\n"
     ]
    },
    {
     "name": "stdout",
     "output_type": "stream",
     "text": [
      "x\ty\n",
      "maximum capacity of A : 3\n",
      "maximum capacity of B :4\n",
      "How much capacity To fill : 2\n",
      "0\t0\n",
      "maximum capacity of A : 3\n",
      "maximum capacity of B :4\n",
      "How much capacity To fill : 2\n",
      "0\t0\n"
     ]
    }
   ],
   "source": [
    "def state(x,y):\n",
    "    A = int(input(\"maximum capacity of A : \"))\n",
    "    B = int(input(\"maximum capacity of B :\"))\n",
    "    fill = int(input(\"How much capacity To fill : \"))\n",
    "    print(\"%d\\t%d\" % (x, y))\n",
    "    if y is fill:\n",
    "        return\n",
    "    elif y is B:\n",
    "        state(0, x)\n",
    "    elif x != 0 and y is 0:\n",
    "        state(0, x)\n",
    "    elif x is fill:\n",
    "        state(x, 0)\n",
    "    elif x < x:\n",
    "        state(x, y)\n",
    "    elif x < (B-y):\n",
    "        state(0, (x+y))\n",
    "    else:\n",
    "        state(x-(B-y), (B-y)+y)\n",
    " \n",
    "print(\"x\\ty\")\n",
    "state(0, 0)"
   ]
  },
  {
   "cell_type": "code",
   "execution_count": 5,
   "id": "e3a51542",
   "metadata": {},
   "outputs": [
    {
     "name": "stdout",
     "output_type": "stream",
     "text": [
      "JUG1\tJUG2\n",
      "0\t0\n",
      "3\t0\n",
      "0\t3\n",
      "3\t3\n",
      "2\t4\n",
      "0\t2\n"
     ]
    },
    {
     "name": "stderr",
     "output_type": "stream",
     "text": [
      "<>:8: SyntaxWarning: \"is\" with a literal. Did you mean \"==\"?\n",
      "<>:8: SyntaxWarning: \"is\" with a literal. Did you mean \"==\"?\n",
      "C:\\Users\\vibho\\AppData\\Local\\Temp\\ipykernel_14912\\128884784.py:8: SyntaxWarning: \"is\" with a literal. Did you mean \"==\"?\n",
      "  elif jug1 != 0 and jug2 is 0:\n"
     ]
    }
   ],
   "source": [
    "def pour(jug1, jug2):\n",
    "    max1, max2, fill = 3, 4, 2 #Change maximum capacity and final capacity\n",
    "    print(\"%d\\t%d\" % (jug1, jug2))\n",
    "    if jug2 is fill:\n",
    "        return\n",
    "    elif jug2 is max2:\n",
    "        pour(0, jug1)\n",
    "    elif jug1 != 0 and jug2 is 0:\n",
    "        pour(0, jug1)\n",
    "    elif jug1 is fill:\n",
    "        pour(jug1, 0)\n",
    "    elif jug1 < max1:\n",
    "        pour(max1, jug2)\n",
    "    elif jug1 < (max2-jug2):\n",
    "        pour(0, (jug1+jug2))\n",
    "    else:\n",
    "        pour(jug1-(max2-jug2), (max2-jug2)+jug2)\n",
    " \n",
    "print(\"JUG1\\tJUG2\")\n",
    "pour(0, 0)"
   ]
  },
  {
   "cell_type": "code",
   "execution_count": null,
   "id": "f8a93fee",
   "metadata": {},
   "outputs": [
    {
     "name": "stderr",
     "output_type": "stream",
     "text": [
      "<>:12: SyntaxWarning: \"is\" with a literal. Did you mean \"==\"?\n",
      "<>:12: SyntaxWarning: \"is\" with a literal. Did you mean \"==\"?\n"
     ]
    },
    {
     "name": "stdout",
     "output_type": "stream",
     "text": [
      "maximum capacity of A : 5\n",
      "maximum capacity of B :3\n",
      "How much capacity To fill : 2\n"
     ]
    }
   ],
   "source": [
    "A = int(input(\"maximum capacity of A : \"))\n",
    "B = int(input(\"maximum capacity of B :\"))\n",
    "h_fill = int(input(\"How much capacity To fill : \"))\n",
    "def pour(jug1, jug2):\n",
    "    max1, max2, fill = A, B, h_fill #Change maximum capacity and final capacity\n",
    " \n",
    "    print(\"%d\\t%d\" % (jug1, jug2))\n",
    "    if jug2 is fill:\n",
    "        return\n",
    "    elif jug2 is max2:\n",
    "        pour(0, jug1)\n",
    "    elif jug1 != 0 and jug2 is 0:\n",
    "        pour(0, jug1)\n",
    "    elif jug1 is fill:\n",
    "        pour(jug1, 0)\n",
    "    elif jug1 < max1:\n",
    "        pour(max1, jug2)\n",
    "    elif jug1 < (max2-jug2):\n",
    "        pour(0, (jug1+jug2))\n",
    "    else:\n",
    "        pour(jug1-(max2-jug2), (max2-jug2)+jug2)\n",
    "\n",
    "print(\"JUG1\\tJUG2\")\n",
    "pour(0, 0)"
   ]
  },
  {
   "cell_type": "code",
   "execution_count": 1,
   "id": "de9914a2",
   "metadata": {},
   "outputs": [
    {
     "name": "stdout",
     "output_type": "stream",
     "text": [
      "maximum capacity of jug 1 : 5\n",
      "maximum capacity of jug 2 : 3\n",
      "Target to fill: 2\n",
      "Path for the water jug problem is as follows:\n",
      "Jug_1\tJug_2\n",
      "0\t\t0\n",
      "5\t\t0\n",
      "5\t\t3\n",
      "0\t\t3\n",
      "3\t\t0\n",
      "3\t\t3\n",
      "5\t\t1\n",
      "0\t\t1\n",
      "1\t\t0\n",
      "1\t\t3\n",
      "4\t\t0\n",
      "4\t\t3\n",
      "5\t\t2\n",
      "0\t\t2\n"
     ]
    },
    {
     "data": {
      "text/plain": [
       "True"
      ]
     },
     "execution_count": 1,
     "metadata": {},
     "output_type": "execute_result"
    }
   ],
   "source": [
    "from collections import defaultdict\n",
    "\n",
    "visited = defaultdict(lambda: False)\n",
    "\n",
    "\n",
    "def find_fill_path(jug_1, jug_2):\n",
    "    global limit_of_jug_1, limit_of_jug_2, target_fill\n",
    "\n",
    "    if (jug_1 == target_fill and jug_2 == 0) or (jug_2 == target_fill and jug_1 == 0):\n",
    "        print(jug_1, jug_2, sep=\"\\t\\t\")\n",
    "        return True\n",
    "\n",
    "    if not visited[(jug_1, jug_2)]:\n",
    "        print(jug_1, jug_2, sep=\"\\t\\t\")\n",
    "\n",
    "        visited[(jug_1, jug_2)] = True\n",
    "\n",
    "        return (find_fill_path(0, jug_2) or\n",
    "                find_fill_path(jug_1, 0) or\n",
    "                find_fill_path(limit_of_jug_1, jug_2) or\n",
    "                find_fill_path(jug_1, limit_of_jug_2) or\n",
    "                find_fill_path(jug_1 + min(jug_2, (limit_of_jug_1 - jug_1)),\n",
    "                               jug_2 - min(jug_2, (limit_of_jug_1 - jug_1))) or\n",
    "                find_fill_path(jug_1 - min(jug_1, (limit_of_jug_2 - jug_2)),\n",
    "                               jug_2 + min(jug_1, (limit_of_jug_2 - jug_2))))\n",
    "    else:\n",
    "        return False\n",
    "\n",
    "\n",
    "limit_of_jug_1 = int(input(\"maximum capacity of jug 1 : \"))\n",
    "limit_of_jug_2 = int(input(\"maximum capacity of jug 2 : \"))\n",
    "target_fill = int(input(\"Target to fill: \"))\n",
    "print(\"Path for the water jug problem is as follows:\")\n",
    "print(\"Jug_1\\tJug_2\")\n",
    "find_fill_path(0,0)"
   ]
  },
  {
   "cell_type": "code",
   "execution_count": 3,
   "id": "194dcf34",
   "metadata": {},
   "outputs": [
    {
     "name": "stdout",
     "output_type": "stream",
     "text": [
      "Capacity of jug A: 4\n",
      "Capacity of jug B: 3\n",
      "Water in jug A at start: 0\n",
      "Water in Jug B at start: 0\n",
      "Water in Jug A at final state: 2\n",
      "Water in Jug B at final state: 0\n",
      "List Of state You can Do:\n",
      "\n",
      "1.Fill Jug A Completely\n",
      "\n",
      "2.Fill Jug B Completely\n",
      "\n",
      "3.Empty Jug A Completely\n",
      "\n",
      "4.Empty Jug B Completely\n",
      "\n",
      "5.Pour From Jug A till Jug B filled Completely or A becomes empty\n",
      "\n",
      "6.Pour From Jug B till Jug A filled Completely or B becomes empty\n",
      "\n",
      "7.Pour all From Jug B to Jug A\n",
      "\n",
      "8.Pour all From Jug A to Jug B\n",
      "\n",
      "Enter the state: 3\n",
      "0 0\n",
      "Enter the state: 5\n",
      "0 0\n"
     ]
    },
    {
     "ename": "KeyboardInterrupt",
     "evalue": "Interrupted by user",
     "output_type": "error",
     "traceback": [
      "\u001b[1;31m---------------------------------------------------------------------------\u001b[0m",
      "\u001b[1;31mKeyboardInterrupt\u001b[0m                         Traceback (most recent call last)",
      "Input \u001b[1;32mIn [3]\u001b[0m, in \u001b[0;36m<cell line: 18>\u001b[1;34m()\u001b[0m\n\u001b[0;32m     16\u001b[0m \u001b[38;5;28mprint\u001b[39m(\u001b[38;5;124m\"\u001b[39m\u001b[38;5;124m8.Pour all From Jug A to Jug B\u001b[39m\u001b[38;5;130;01m\\n\u001b[39;00m\u001b[38;5;124m\"\u001b[39m)\n\u001b[0;32m     18\u001b[0m \u001b[38;5;28;01mwhile\u001b[39;00m ((A_start\u001b[38;5;241m!=\u001b[39mA_final \u001b[38;5;129;01mor\u001b[39;00m B_start\u001b[38;5;241m!=\u001b[39mB_Final)):\n\u001b[1;32m---> 19\u001b[0m     state\u001b[38;5;241m=\u001b[39m\u001b[38;5;28mint\u001b[39m(\u001b[38;5;28;43minput\u001b[39;49m\u001b[43m(\u001b[49m\u001b[38;5;124;43m\"\u001b[39;49m\u001b[38;5;124;43mEnter the state: \u001b[39;49m\u001b[38;5;124;43m\"\u001b[39;49m\u001b[43m)\u001b[49m)\n\u001b[0;32m     20\u001b[0m     \u001b[38;5;28;01mif\u001b[39;00m(state\u001b[38;5;241m==\u001b[39m\u001b[38;5;241m1\u001b[39m):\n\u001b[0;32m     21\u001b[0m         A_start\u001b[38;5;241m=\u001b[39mJug_A\n",
      "File \u001b[1;32m~\\anaconda3\\envs\\VB\\lib\\site-packages\\ipykernel\\kernelbase.py:1177\u001b[0m, in \u001b[0;36mKernel.raw_input\u001b[1;34m(self, prompt)\u001b[0m\n\u001b[0;32m   1173\u001b[0m \u001b[38;5;28;01mif\u001b[39;00m \u001b[38;5;129;01mnot\u001b[39;00m \u001b[38;5;28mself\u001b[39m\u001b[38;5;241m.\u001b[39m_allow_stdin:\n\u001b[0;32m   1174\u001b[0m     \u001b[38;5;28;01mraise\u001b[39;00m StdinNotImplementedError(\n\u001b[0;32m   1175\u001b[0m         \u001b[38;5;124m\"\u001b[39m\u001b[38;5;124mraw_input was called, but this frontend does not support input requests.\u001b[39m\u001b[38;5;124m\"\u001b[39m\n\u001b[0;32m   1176\u001b[0m     )\n\u001b[1;32m-> 1177\u001b[0m \u001b[38;5;28;01mreturn\u001b[39;00m \u001b[38;5;28;43mself\u001b[39;49m\u001b[38;5;241;43m.\u001b[39;49m\u001b[43m_input_request\u001b[49m\u001b[43m(\u001b[49m\n\u001b[0;32m   1178\u001b[0m \u001b[43m    \u001b[49m\u001b[38;5;28;43mstr\u001b[39;49m\u001b[43m(\u001b[49m\u001b[43mprompt\u001b[49m\u001b[43m)\u001b[49m\u001b[43m,\u001b[49m\n\u001b[0;32m   1179\u001b[0m \u001b[43m    \u001b[49m\u001b[38;5;28;43mself\u001b[39;49m\u001b[38;5;241;43m.\u001b[39;49m\u001b[43m_parent_ident\u001b[49m\u001b[43m[\u001b[49m\u001b[38;5;124;43m\"\u001b[39;49m\u001b[38;5;124;43mshell\u001b[39;49m\u001b[38;5;124;43m\"\u001b[39;49m\u001b[43m]\u001b[49m\u001b[43m,\u001b[49m\n\u001b[0;32m   1180\u001b[0m \u001b[43m    \u001b[49m\u001b[38;5;28;43mself\u001b[39;49m\u001b[38;5;241;43m.\u001b[39;49m\u001b[43mget_parent\u001b[49m\u001b[43m(\u001b[49m\u001b[38;5;124;43m\"\u001b[39;49m\u001b[38;5;124;43mshell\u001b[39;49m\u001b[38;5;124;43m\"\u001b[39;49m\u001b[43m)\u001b[49m\u001b[43m,\u001b[49m\n\u001b[0;32m   1181\u001b[0m \u001b[43m    \u001b[49m\u001b[43mpassword\u001b[49m\u001b[38;5;241;43m=\u001b[39;49m\u001b[38;5;28;43;01mFalse\u001b[39;49;00m\u001b[43m,\u001b[49m\n\u001b[0;32m   1182\u001b[0m \u001b[43m\u001b[49m\u001b[43m)\u001b[49m\n",
      "File \u001b[1;32m~\\anaconda3\\envs\\VB\\lib\\site-packages\\ipykernel\\kernelbase.py:1219\u001b[0m, in \u001b[0;36mKernel._input_request\u001b[1;34m(self, prompt, ident, parent, password)\u001b[0m\n\u001b[0;32m   1216\u001b[0m             \u001b[38;5;28;01mbreak\u001b[39;00m\n\u001b[0;32m   1217\u001b[0m \u001b[38;5;28;01mexcept\u001b[39;00m \u001b[38;5;167;01mKeyboardInterrupt\u001b[39;00m:\n\u001b[0;32m   1218\u001b[0m     \u001b[38;5;66;03m# re-raise KeyboardInterrupt, to truncate traceback\u001b[39;00m\n\u001b[1;32m-> 1219\u001b[0m     \u001b[38;5;28;01mraise\u001b[39;00m \u001b[38;5;167;01mKeyboardInterrupt\u001b[39;00m(\u001b[38;5;124m\"\u001b[39m\u001b[38;5;124mInterrupted by user\u001b[39m\u001b[38;5;124m\"\u001b[39m) \u001b[38;5;28;01mfrom\u001b[39;00m \u001b[38;5;28mNone\u001b[39m\n\u001b[0;32m   1220\u001b[0m \u001b[38;5;28;01mexcept\u001b[39;00m \u001b[38;5;167;01mException\u001b[39;00m:\n\u001b[0;32m   1221\u001b[0m     \u001b[38;5;28mself\u001b[39m\u001b[38;5;241m.\u001b[39mlog\u001b[38;5;241m.\u001b[39mwarning(\u001b[38;5;124m\"\u001b[39m\u001b[38;5;124mInvalid Message:\u001b[39m\u001b[38;5;124m\"\u001b[39m, exc_info\u001b[38;5;241m=\u001b[39m\u001b[38;5;28;01mTrue\u001b[39;00m)\n",
      "\u001b[1;31mKeyboardInterrupt\u001b[0m: Interrupted by user"
     ]
    }
   ],
   "source": [
    "Jug_A=int(input(\"Capacity of jug A: \"))\n",
    "Jug_B=int(input(\"Capacity of jug B: \"))\n",
    "A_start=int(input(\"Water in jug A at start: \"))\n",
    "B_start=int(input(\"Water in Jug B at start: \"))\n",
    "A_final=int(input(\"Water in Jug A at final state: \"))\n",
    "B_Final=int(input(\"Water in Jug B at final state: \"))\n",
    "\n",
    "print(\"List Of state You can Do:\\n\")\n",
    "print(\"1.Fill Jug A Completely\\n\")\n",
    "print(\"2.Fill Jug B Completely\\n\")\n",
    "print(\"3.Empty Jug A Completely\\n\")\n",
    "print(\"4.Empty Jug B Completely\\n\")\n",
    "print(\"5.Pour From Jug A till Jug B filled Completely or A becomes empty\\n\")\n",
    "print(\"6.Pour From Jug B till Jug A filled Completely or B becomes empty\\n\")\n",
    "print(\"7.Pour all From Jug B to Jug A\\n\")\n",
    "print(\"8.Pour all From Jug A to Jug B\\n\")\n",
    "\n",
    "while ((A_start!=A_final or B_start!=B_Final)):\n",
    "    state=int(input(\"Enter the state: \"))\n",
    "    if(state==1):\n",
    "        A_start=Jug_A\n",
    "    elif(state==2):\n",
    "        B_start=Jug_B\n",
    "    elif(state==3):\n",
    "        A_start=0\n",
    "    elif(state==4):\n",
    "        B_start=0\n",
    "    elif(state==5):\n",
    "        if(Jug_B-B_start>A_start):\n",
    "            B_start=A_start+B_start\n",
    "            A_start=0\n",
    "        else:\n",
    "            A_start=A_start-(Jug_B-B_start)\n",
    "            B_start=Jug_B\n",
    "    elif(state==6):\n",
    "        if(Jug_A-A_start>B_start):\n",
    "            A_start=A_start+B_start\n",
    "            B_start=0\n",
    "        else:\n",
    "            B_start=B_start-(Jug_A-A_start)\n",
    "            A_start= Jug_A\n",
    "    elif(state==7):\n",
    "        \n",
    "        A_start=A_start+B_start\n",
    "        B_start=0\n",
    "    elif(state==8):\n",
    "        B_start=B_start+A_start\n",
    "        A_start=0\n",
    "    print(A_start,B_start)"
   ]
  },
  {
   "cell_type": "code",
   "execution_count": 1,
   "id": "bb0002f0",
   "metadata": {},
   "outputs": [],
   "source": [
    "def test1(*m):\n",
    "    n = 1 \n",
    "    for i in m:\n",
    "        if type(i) == int: \n",
    "            n = n*i\n",
    "    return n "
   ]
  },
  {
   "cell_type": "code",
   "execution_count": 3,
   "id": "d3a8f3ae",
   "metadata": {},
   "outputs": [
    {
     "data": {
      "text/plain": [
       "584640"
      ]
     },
     "execution_count": 3,
     "metadata": {},
     "output_type": "execute_result"
    }
   ],
   "source": [
    "test1(4,5,6,7,87,8)"
   ]
  },
  {
   "cell_type": "code",
   "execution_count": 4,
   "id": "365bb7fc",
   "metadata": {},
   "outputs": [],
   "source": [
    "# anonymous function , it can be reusable \n",
    "n = lambda a,b : a + b #assigning an funtion to a variable. "
   ]
  },
  {
   "cell_type": "code",
   "execution_count": 5,
   "id": "7c0c8efc",
   "metadata": {},
   "outputs": [
    {
     "data": {
      "text/plain": [
       "9"
      ]
     },
     "execution_count": 5,
     "metadata": {},
     "output_type": "execute_result"
    }
   ],
   "source": [
    "n(4,5)"
   ]
  },
  {
   "cell_type": "code",
   "execution_count": 6,
   "id": "96b5d9f4",
   "metadata": {},
   "outputs": [],
   "source": [
    "# this is equal to the funtion above \n",
    "def test5(a,b):\n",
    "    return a+b"
   ]
  },
  {
   "cell_type": "code",
   "execution_count": 7,
   "id": "2dae3a2c",
   "metadata": {},
   "outputs": [
    {
     "data": {
      "text/plain": [
       "9"
      ]
     },
     "execution_count": 7,
     "metadata": {},
     "output_type": "execute_result"
    }
   ],
   "source": [
    "test5(4,5)"
   ]
  },
  {
   "cell_type": "code",
   "execution_count": 8,
   "id": "fca79485",
   "metadata": {},
   "outputs": [],
   "source": [
    "b = lambda *vibh : vibh"
   ]
  },
  {
   "cell_type": "code",
   "execution_count": 9,
   "id": "24588eda",
   "metadata": {},
   "outputs": [
    {
     "data": {
      "text/plain": [
       "(45, 5, 4, 5, 6, 677)"
      ]
     },
     "execution_count": 9,
     "metadata": {},
     "output_type": "execute_result"
    }
   ],
   "source": [
    "b(45,5,4,5,6,677)"
   ]
  },
  {
   "cell_type": "code",
   "execution_count": 12,
   "id": "167fb951",
   "metadata": {},
   "outputs": [],
   "source": [
    "t = (3,4,4,5,5,67,7,7)\n",
    "l = []\n",
    "for i in t:\n",
    "    l.append(i)\n"
   ]
  },
  {
   "cell_type": "code",
   "execution_count": 13,
   "id": "f9658d48",
   "metadata": {},
   "outputs": [
    {
     "data": {
      "text/plain": [
       "[3, 4, 4, 5, 5, 67, 7, 7]"
      ]
     },
     "execution_count": 13,
     "metadata": {},
     "output_type": "execute_result"
    }
   ],
   "source": [
    "l"
   ]
  },
  {
   "cell_type": "code",
   "execution_count": 14,
   "id": "27143dcb",
   "metadata": {},
   "outputs": [
    {
     "data": {
      "text/plain": [
       "[3, 4, 4, 5, 5, 67, 7, 7]"
      ]
     },
     "execution_count": 14,
     "metadata": {},
     "output_type": "execute_result"
    }
   ],
   "source": [
    "[i for i in t] # comprehension operation of list "
   ]
  },
  {
   "cell_type": "code",
   "execution_count": 17,
   "id": "cabcb52d",
   "metadata": {},
   "outputs": [],
   "source": [
    "s = \"sudh\""
   ]
  },
  {
   "cell_type": "code",
   "execution_count": 18,
   "id": "d5f40f12",
   "metadata": {},
   "outputs": [
    {
     "data": {
      "text/plain": [
       "['s', 'u', 'd', 'h']"
      ]
     },
     "execution_count": 18,
     "metadata": {},
     "output_type": "execute_result"
    }
   ],
   "source": [
    "[i for i in s]"
   ]
  },
  {
   "cell_type": "code",
   "execution_count": 19,
   "id": "6fb760f1",
   "metadata": {},
   "outputs": [
    {
     "data": {
      "text/plain": [
       "[0, 1, 4, 9, 16, 25, 36, 49, 64, 81]"
      ]
     },
     "execution_count": 19,
     "metadata": {},
     "output_type": "execute_result"
    }
   ],
   "source": [
    "[i*i for i in range(10)] # get the square of number btw 1-10"
   ]
  },
  {
   "cell_type": "code",
   "execution_count": 20,
   "id": "fcc7719a",
   "metadata": {},
   "outputs": [],
   "source": [
    "l =[]\n",
    "for i in range(10):\n",
    "    l.append(i*i)"
   ]
  },
  {
   "cell_type": "code",
   "execution_count": 21,
   "id": "2ae98dab",
   "metadata": {},
   "outputs": [
    {
     "data": {
      "text/plain": [
       "[0, 1, 4, 9, 16, 25, 36, 49, 64, 81]"
      ]
     },
     "execution_count": 21,
     "metadata": {},
     "output_type": "execute_result"
    }
   ],
   "source": [
    "l"
   ]
  },
  {
   "cell_type": "code",
   "execution_count": 24,
   "id": "b3b01f42",
   "metadata": {},
   "outputs": [],
   "source": [
    "l = lambda *x : [i**2 for i in x]"
   ]
  },
  {
   "cell_type": "code",
   "execution_count": 25,
   "id": "64bfd69a",
   "metadata": {},
   "outputs": [
    {
     "data": {
      "text/plain": [
       "[16, 2025, 25, 36, 49, 64, 81]"
      ]
     },
     "execution_count": 25,
     "metadata": {},
     "output_type": "execute_result"
    }
   ],
   "source": [
    "l(4,45,5,6,7,8,9)"
   ]
  },
  {
   "cell_type": "code",
   "execution_count": null,
   "id": "3f1869fb",
   "metadata": {},
   "outputs": [],
   "source": [
    "# find the number of string from the dictionary \n",
    "test14 (a =7, b = \"vibh\", c= 345, d = \"vibh\", l = [2,3,4,45,\"vibh\"])"
   ]
  },
  {
   "cell_type": "code",
   "execution_count": 45,
   "id": "ffc2e6d4",
   "metadata": {},
   "outputs": [],
   "source": [
    "\n",
    "def test14(**kwargs):\n",
    "    count = 0\n",
    "    print(kwargs)\n",
    "    print(kwargs.keys())\n",
    "    print(kwargs.values())\n",
    "    for v in kwargs.values():\n",
    "        if type(v) == str or type(v) == list:\n",
    "            count += 1 \n",
    "    return count\n"
   ]
  },
  {
   "cell_type": "code",
   "execution_count": 46,
   "id": "e785f998",
   "metadata": {},
   "outputs": [
    {
     "name": "stdout",
     "output_type": "stream",
     "text": [
      "{'a': 7, 'b': 'vibh', 'c': 345, 'd': 'vibh', 'l': [2, 3, 4, 45, 'vibh']}\n",
      "dict_keys(['a', 'b', 'c', 'd', 'l'])\n",
      "dict_values([7, 'vibh', 345, 'vibh', [2, 3, 4, 45, 'vibh']])\n"
     ]
    },
    {
     "data": {
      "text/plain": [
       "3"
      ]
     },
     "execution_count": 46,
     "metadata": {},
     "output_type": "execute_result"
    }
   ],
   "source": [
    "test14(a =7, b = \"vibh\", c= 345, d = \"vibh\", l = [2,3,4,45,\"vibh\"])"
   ]
  },
  {
   "cell_type": "code",
   "execution_count": 47,
   "id": "703b1505",
   "metadata": {},
   "outputs": [],
   "source": [
    " #return list of all the data\n",
    "def test15(**kwargs):\n",
    "    return list(kwargs.values())"
   ]
  },
  {
   "cell_type": "code",
   "execution_count": 48,
   "id": "5aed1052",
   "metadata": {},
   "outputs": [
    {
     "data": {
      "text/plain": [
       "[7, 'vibh', 345, 'vibh', [2, 3, 4, 45, 'vibh']]"
      ]
     },
     "execution_count": 48,
     "metadata": {},
     "output_type": "execute_result"
    }
   ],
   "source": [
    "test15(a =7, b = \"vibh\", c= 345, d = \"vibh\", l = [2,3,4,45,\"vibh\"])"
   ]
  },
  {
   "cell_type": "code",
   "execution_count": null,
   "id": "203dde4d",
   "metadata": {},
   "outputs": [],
   "source": []
  }
 ],
 "metadata": {
  "kernelspec": {
   "display_name": "Python 3 (ipykernel)",
   "language": "python",
   "name": "python3"
  },
  "language_info": {
   "codemirror_mode": {
    "name": "ipython",
    "version": 3
   },
   "file_extension": ".py",
   "mimetype": "text/x-python",
   "name": "python",
   "nbconvert_exporter": "python",
   "pygments_lexer": "ipython3",
   "version": "3.9.18"
  }
 },
 "nbformat": 4,
 "nbformat_minor": 5
}
