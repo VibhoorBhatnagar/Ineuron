{
 "cells": [
  {
   "cell_type": "code",
   "execution_count": 1,
   "id": "5dfcdbd7",
   "metadata": {},
   "outputs": [
    {
     "ename": "ZeroDivisionError",
     "evalue": "division by zero",
     "output_type": "error",
     "traceback": [
      "\u001b[1;31m---------------------------------------------------------------------------\u001b[0m",
      "\u001b[1;31mZeroDivisionError\u001b[0m                         Traceback (most recent call last)",
      "Input \u001b[1;32mIn [1]\u001b[0m, in \u001b[0;36m<cell line: 2>\u001b[1;34m()\u001b[0m\n\u001b[0;32m      1\u001b[0m a \u001b[38;5;241m=\u001b[39m \u001b[38;5;241m10\u001b[39m\n\u001b[1;32m----> 2\u001b[0m \u001b[43ma\u001b[49m\u001b[38;5;241;43m/\u001b[39;49m\u001b[38;5;241;43m0\u001b[39;49m\n",
      "\u001b[1;31mZeroDivisionError\u001b[0m: division by zero"
     ]
    }
   ],
   "source": [
    "a = 10\n",
    "a/0"
   ]
  },
  {
   "cell_type": "code",
   "execution_count": null,
   "id": "06d5e9e7",
   "metadata": {},
   "outputs": [],
   "source": [
    "try:\n",
    "    a = 10\n",
    "    a/0\n",
    "except Exception as e:\n",
    "    print(e)\n",
    "    print(\"this will be my final code after handling an exception\")"
   ]
  },
  {
   "cell_type": "code",
   "execution_count": null,
   "id": "1c327da0",
   "metadata": {},
   "outputs": [],
   "source": [
    "f = open('vibhoor.txt','r')\n",
    "print(\"this will be my final code after handling an exception\")"
   ]
  },
  {
   "cell_type": "code",
   "execution_count": null,
   "id": "94621cb6",
   "metadata": {},
   "outputs": [],
   "source": [
    "try:\n",
    "    f = open('vibhoor.txt','r')\n",
    "except Exception as e:\n",
    "    print(e)\n",
    "    print(\"This will be my final code after handling an exception\")"
   ]
  },
  {
   "cell_type": "code",
   "execution_count": null,
   "id": "9e076598",
   "metadata": {},
   "outputs": [],
   "source": [
    "f = open(\"vibh.txt\", 'r')\n",
    "f.write(\"this is the suspicuous code\")"
   ]
  },
  {
   "cell_type": "code",
   "execution_count": null,
   "id": "37c5b7d3",
   "metadata": {},
   "outputs": [],
   "source": [
    "try:\n",
    "    f = open(\"vibh.txt\", 'r')\n",
    "    f.write(\"this is the suspicuous code\")\n",
    "except Exception as e:\n",
    "    print(e)\n",
    "    print(\"This will be my final code after handling an exception\")"
   ]
  },
  {
   "cell_type": "code",
   "execution_count": null,
   "id": "19f3393e",
   "metadata": {},
   "outputs": [],
   "source": [
    "try:\n",
    "    f = open(\"vibh.txt\", 'r')\n",
    "    f.write(\"this is the suspicuous code\")\n",
    "except Exception as e:\n",
    "    print(e)\n",
    "    print(\"This will be my final code after handling an exception\")\n",
    "finally:\n",
    "    print(\"This block will be executed anytime\")"
   ]
  },
  {
   "cell_type": "code",
   "execution_count": 5,
   "id": "d239f222",
   "metadata": {},
   "outputs": [],
   "source": [
    "def askint():\n",
    "    try:\n",
    "        val = int(input(\"Enter an integer: \"))\n",
    "    except:\n",
    "        print(\"You have no enterd an integer\")\n",
    "        try:\n",
    "            val = int(input(\"Enter an integer: \"))\n",
    "        except:\n",
    "            print(\"we are able to handle your mistake for the second time\")\n",
    "    finally:\n",
    "        print(\"Finally will be executed anyway\")"
   ]
  },
  {
   "cell_type": "code",
   "execution_count": 6,
   "id": "411afb0a",
   "metadata": {},
   "outputs": [
    {
     "name": "stdout",
     "output_type": "stream",
     "text": [
      "Enter an integer: gd \n",
      "You have no enterd an integer\n",
      "Enter an integer: d\n",
      "we are able to handle your mistake for the second time\n",
      "Finally will be executed anyway\n"
     ]
    }
   ],
   "source": [
    "askint()"
   ]
  },
  {
   "cell_type": "code",
   "execution_count": 7,
   "id": "61b2e26d",
   "metadata": {},
   "outputs": [],
   "source": [
    "def askint1():\n",
    "    while True:\n",
    "        try:\n",
    "            val = int(input(\"Please enter an integer: \"))\n",
    "            break\n",
    "        except:\n",
    "            print(\"You have not enterd an integer\")\n",
    "        \n",
    "            "
   ]
  },
  {
   "cell_type": "code",
   "execution_count": 8,
   "id": "e938339d",
   "metadata": {},
   "outputs": [
    {
     "name": "stdout",
     "output_type": "stream",
     "text": [
      "Please enter an integer: fg \n",
      "You have not enterd an integer\n",
      "Please enter an integer: rh tht\n",
      "You have not enterd an integer\n",
      "Please enter an integer:  r t \n",
      "You have not enterd an integer\n",
      "Please enter an integer:  4\n"
     ]
    }
   ],
   "source": [
    "askint1()"
   ]
  },
  {
   "cell_type": "code",
   "execution_count": null,
   "id": "0ea9d297",
   "metadata": {},
   "outputs": [],
   "source": []
  },
  {
   "cell_type": "code",
   "execution_count": null,
   "id": "ec584140",
   "metadata": {},
   "outputs": [],
   "source": []
  }
 ],
 "metadata": {
  "kernelspec": {
   "display_name": "Python 3 (ipykernel)",
   "language": "python",
   "name": "python3"
  },
  "language_info": {
   "codemirror_mode": {
    "name": "ipython",
    "version": 3
   },
   "file_extension": ".py",
   "mimetype": "text/x-python",
   "name": "python",
   "nbconvert_exporter": "python",
   "pygments_lexer": "ipython3",
   "version": "3.9.12"
  }
 },
 "nbformat": 4,
 "nbformat_minor": 5
}
