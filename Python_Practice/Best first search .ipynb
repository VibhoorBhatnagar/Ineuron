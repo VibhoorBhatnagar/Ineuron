{
 "cells": [
  {
   "cell_type": "code",
   "execution_count": 8,
   "id": "008e7877",
   "metadata": {},
   "outputs": [
    {
     "name": "stdout",
     "output_type": "stream",
     "text": [
      "0 1 3 2 8 9 \n"
     ]
    }
   ],
   "source": [
    "from queue import PriorityQueue\n",
    "v = 14\n",
    "graph = [[] for i in range(v)]\n",
    " \n",
    "# Function For Implementing Best First Search\n",
    "# Gives output path having lowest cost\n",
    " \n",
    "def best_first_search(actual_Src, target, n):\n",
    "    visited = [False] * n\n",
    "    pq = PriorityQueue()\n",
    "    pq.put((0, actual_Src))\n",
    "    visited[actual_Src] = True\n",
    "     \n",
    "    while pq.empty() == False:\n",
    "        u = pq.get()[1]\n",
    "        # Displaying the path having lowest cost\n",
    "        print(u, end=\" \")\n",
    "        if u == target:\n",
    "            break\n",
    " \n",
    "        for v, c in graph[u]:\n",
    "            if visited[v] == False:\n",
    "                visited[v] = True\n",
    "                pq.put((c, v))\n",
    "    print()\n",
    "    \n",
    "def addedge(x, y, cost):\n",
    "    graph[x].append((y, cost))\n",
    "    graph[y].append((x, cost))\n",
    " \n",
    " \n",
    "# The nodes shown in above example(by alphabets) are\n",
    "# implemented using integers addedge(x,y,cost);\n",
    "addedge(0, 1, 3)\n",
    "addedge(0, 2, 6)\n",
    "addedge(0, 3, 5)\n",
    "addedge(1, 4, 9)\n",
    "addedge(1, 5, 8)\n",
    "addedge(2, 6, 12)\n",
    "addedge(2, 7, 14)\n",
    "addedge(3, 8, 7)\n",
    "addedge(8, 9, 5)\n",
    "addedge(8, 10, 6)\n",
    "addedge(9, 11, 1)\n",
    "addedge(9, 12, 10)\n",
    "addedge(9, 13, 2)\n",
    "# addedge(0, 1, 1)\n",
    "# addedge(0, 2, 8)\n",
    "# addedge(1, 2, 12)\n",
    "# addedge(1, 4, 13)\n",
    "# addedge(2, 3, 6)\n",
    "# addedge(4, 3, 3)\n",
    " \n",
    "source = 0\n",
    "target = 9\n",
    "best_first_search(source, target, v)\n",
    " \n",
    "# This code is contributed by Jyotheeswar Ganne"
   ]
  },
  {
   "cell_type": "code",
   "execution_count": 6,
   "id": "516321c5",
   "metadata": {},
   "outputs": [
    {
     "name": "stdout",
     "output_type": "stream",
     "text": [
      "Path: \n",
      "0 1 0 3 2 8 9 \n"
     ]
    }
   ],
   "source": [
    "from queue import PriorityQueue\n",
    "\n",
    "# Filling adjacency matrix with empty arrays\n",
    "vertices = 14\n",
    "graph = [[] for i in range(vertices)]\n",
    "\n",
    "\n",
    "# Function for adding edges to graph\n",
    "def addedge(x, y, cost):\n",
    "    graph[x].append((y, cost))\n",
    "    graph[y].append((x, cost))\n",
    "\n",
    "\n",
    "# Function For Implementing Best First Search\n",
    "# Gives output path having the lowest cost\n",
    "def best_first_search(source, target, vertices):\n",
    "    visited = [0] * vertices\n",
    "    pq = PriorityQueue()\n",
    "    pq.put((0, source))\n",
    "    print(\"Path: \")\n",
    "    while not pq.empty():\n",
    "        u = pq.get()[1]\n",
    "        # Displaying the path having the lowest cost\n",
    "        print(u, end=\" \")\n",
    "        if u == target:\n",
    "            break\n",
    "\n",
    "        for v, c in graph[u]:\n",
    "            if not visited[v]:\n",
    "                visited[v] = True\n",
    "                pq.put((c, v))\n",
    "    print()\n",
    "\n",
    "\n",
    "if __name__ == '__main__':\n",
    "    # The nodes shown in above example(by alphabets) are\n",
    "    # implemented using integers add_edge(x,y,cost);\n",
    "#     addedge(0, 1, 1)\n",
    "#     addedge(0, 2, 8)\n",
    "#     addedge(1, 2, 12)\n",
    "#     addedge(1, 4, 13)\n",
    "#     addedge(2, 3, 6)\n",
    "#     addedge(4, 3, 3)\n",
    "    addedge(0, 1, 3)\n",
    "    addedge(0, 2, 6)\n",
    "    addedge(0, 3, 5)\n",
    "    addedge(1, 4, 9)\n",
    "    addedge(1, 5, 8)\n",
    "    addedge(2, 6, 12)\n",
    "    addedge(2, 7, 14)\n",
    "    addedge(3, 8, 7)\n",
    "    addedge(8, 9, 5)\n",
    "    addedge(8, 10, 6)\n",
    "    addedge(9, 11, 1)\n",
    "    addedge(9, 12, 10)\n",
    "    addedge(9, 13, 2)\n",
    "\n",
    "    source = 0\n",
    "    target = 9\n",
    "    best_first_search(source, target, vertices)"
   ]
  },
  {
   "cell_type": "code",
   "execution_count": null,
   "id": "4ead3e31",
   "metadata": {},
   "outputs": [],
   "source": [
    "0 1 3 2 8 9 "
   ]
  }
 ],
 "metadata": {
  "kernelspec": {
   "display_name": "Python 3 (ipykernel)",
   "language": "python",
   "name": "python3"
  },
  "language_info": {
   "codemirror_mode": {
    "name": "ipython",
    "version": 3
   },
   "file_extension": ".py",
   "mimetype": "text/x-python",
   "name": "python",
   "nbconvert_exporter": "python",
   "pygments_lexer": "ipython3",
   "version": "3.9.12"
  }
 },
 "nbformat": 4,
 "nbformat_minor": 5
}
