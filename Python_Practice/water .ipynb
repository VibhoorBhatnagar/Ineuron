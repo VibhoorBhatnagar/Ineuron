{
 "cells": [
  {
   "cell_type": "code",
   "execution_count": 18,
   "id": "524ed588",
   "metadata": {},
   "outputs": [],
   "source": [
    "d = {1:\"Fill the 4 Liter jug completely \",\n",
    "    2: \"Fill the 3 Liter jug completely \",\n",
    "    3:\"Pour some part from the 4 Liter jug\",\n",
    "    4 : \"Pour some part from the 3 Liter jug\",\n",
    "    5 : \"Empty the 4 Liter jug\",\n",
    "    6 : \"Empty the 3 Liter jug\",\n",
    "    7 : \"Pour some water from the 3 Liter jug to fill the 4 Liter jug\",\n",
    "    8 : \"Pour some water from the 4 Liter jug to fill the 3 Liter jug\",\n",
    "    9 : \"Pour all water from 3 Liter jug to the 4 Liter jug\",\n",
    "    10 : \"Pour all water from the 4 Liter jug to the 3 Liter jug\"}"
   ]
  },
  {
   "cell_type": "code",
   "execution_count": null,
   "id": "0ce549b2",
   "metadata": {},
   "outputs": [
    {
     "name": "stdout",
     "output_type": "stream",
     "text": [
      "Enter initial water in Jug A 3\n",
      "Enter initial water in Jug B 4\n",
      "Operation to be performed:\n",
      "\n",
      "Enter the operation number to perform 9\n",
      "7 0\n"
     ]
    }
   ],
   "source": [
    "a=int(input(\"Enter initial water in Jug A \"))\n",
    "b=int(input(\"Enter initial water in Jug B \"))\n",
    "\n",
    "print(\"Operation to be performed:\")\n",
    "\n",
    "          \n",
    "while((a!=2 or b!=0)):\n",
    "\n",
    "    inp=int(input(\"\\nEnter the operation number to perform \"))\n",
    "    if(inp==0):\n",
    "        print(\"Operation terminated!!!\")\n",
    "        break\n",
    "    if(inp==1):\n",
    "        if(a==4):\n",
    "            print(\"Capacity exceeded!!\")\n",
    "        else:\n",
    "            a=4\n",
    "    elif(inp==2):\n",
    "        if(b==3):\n",
    "            print(\"Capacity exceeded!!\")\n",
    "        else:\n",
    "            b=3\n",
    "    elif(inp==3):\n",
    "        temp1=int(input(\"How much water to pour from 4 Liter jug to 3 Liter jug: \"))\n",
    "        if(temp1+b>3):\n",
    "            print(\"Capacity exceeded!!\")\n",
    "        else:\n",
    "            b=temp1+b\n",
    "    elif(inp==4):\n",
    "        temp1=int(input(\"How much water to pour from 3 Liter jug to 4 Liter jug: 3\"))\n",
    "        if(temp1+b>4):\n",
    "            print(\"Capacity exceeded!!\")\n",
    "        else:\n",
    "            a=temp1+a\n",
    "    elif(inp==5):\n",
    "        a=0\n",
    "    elif(inp==6):\n",
    "        b=0\n",
    "    elif(inp==7):\n",
    "        if(a==4):\n",
    "            print(\"4 Liter jug is already full!!\")\n",
    "        elif(4-a>b):\n",
    "            a=a+b\n",
    "            b=0\n",
    "        else:\n",
    "            b=b-(4-a)\n",
    "            a=4\n",
    "    elif(inp==8):\n",
    "        if(b==3):\n",
    "            print(\"3 Liter jug is already full\")\n",
    "        elif(3-b>a):\n",
    "            b=a+b\n",
    "            a=0\n",
    "        else:\n",
    "            a=a-(3-b)\n",
    "            b=3\n",
    "    elif(inp==9):\n",
    "        if(a>=4):\n",
    "            print(\"4 Liter jug is already full!!\")\n",
    "        else:\n",
    "            a=a+b\n",
    "            b=0\n",
    "    elif(inp==10):\n",
    "        if(b>=3):\n",
    "            print(\"3 Liter jug is already full!!\")\n",
    "        else:\n",
    "            b=b+a\n",
    "            a=0\n",
    "    print(a,b)"
   ]
  },
  {
   "cell_type": "code",
   "execution_count": null,
   "id": "5eaec586",
   "metadata": {},
   "outputs": [],
   "source": []
  },
  {
   "cell_type": "code",
   "execution_count": null,
   "id": "76b58260",
   "metadata": {},
   "outputs": [],
   "source": []
  }
 ],
 "metadata": {
  "kernelspec": {
   "display_name": "Python 3 (ipykernel)",
   "language": "python",
   "name": "python3"
  },
  "language_info": {
   "codemirror_mode": {
    "name": "ipython",
    "version": 3
   },
   "file_extension": ".py",
   "mimetype": "text/x-python",
   "name": "python",
   "nbconvert_exporter": "python",
   "pygments_lexer": "ipython3",
   "version": "3.9.12"
  }
 },
 "nbformat": 4,
 "nbformat_minor": 5
}
